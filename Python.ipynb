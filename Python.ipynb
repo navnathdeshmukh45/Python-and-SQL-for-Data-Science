{
 "cells": [
  {
   "cell_type": "markdown",
   "metadata": {
    "id": "4CRiLntWK42-"
   },
   "source": [
    "\n",
    "\n",
    "# What do you mean by python ?\n",
    "  - Python is a popular **programming languages**.\n",
    "  - It was created by **Guido van Rossum, and released in 1991**.\n",
    "\n",
    "---\n",
    "\n",
    "# It is used for:\n",
    "- web development (server-side),\n",
    "- software development,\n",
    "- mathematics,\n",
    "- system scripting.\n",
    "\n",
    "\n",
    "---\n",
    "\n",
    "\n",
    "# What can Python do?\n",
    "- Python can be used on a **server to create web applications**.\n",
    "- Python can be used along side software to create workflows.\n",
    "- Python can connect to database systems. It can also read and modify files.\n",
    "- Python can be used to handle big data and perform complex mathematics.\n",
    "- Python can be used for rapid prototyping, or for production-ready software development.\n",
    "\n",
    "---\n",
    "\n",
    "\n",
    "\n",
    "# why python programming lanaguage are popular ?\n",
    "- Python works on different platforms (Windows, Mac, Linux, Raspberry Pi, etc).\n",
    "- Python has a simple syntax similar to the English language.\n",
    "- Python has syntax that allows developers to write programs with fewer lines than some other programming languages.\n",
    "- Python runs on an interpreter system, meaning that code can be executed as soon as it is written. This means that prototyping can be very quick.\n",
    "- Python can be treated in a procedural way, an object-oriented way or a functional way."
   ]
  },
  {
   "cell_type": "code",
   "execution_count": null,
   "metadata": {
    "colab": {
     "base_uri": "https://localhost:8080/"
    },
    "executionInfo": {
     "elapsed": 544,
     "status": "ok",
     "timestamp": 1725641055549,
     "user": {
      "displayName": "NAVNATH DESHMUKH",
      "userId": "07319468676285488010"
     },
     "user_tz": -330
    },
    "id": "hr0-ESJTLGEp",
    "outputId": "6df4fdce-b969-4549-b1cb-879ccb6bb780"
   },
   "outputs": [
    {
     "name": "stdout",
     "output_type": "stream",
     "text": [
      "Hello Priya\n"
     ]
    }
   ],
   "source": [
    "print(\"Hello Priya\") # First Program"
   ]
  },
  {
   "cell_type": "markdown",
   "metadata": {
    "id": "ByYdPIUcOOUc"
   },
   "source": [
    "##  Comments\n",
    " Comments are lines in the code that are ignored by the Python interpreter.\n",
    "\n",
    "They are used to explain and document the code, making it easier to understand for others.\n",
    "\n",
    " Comments are especially helpful for debugging, maintaining, and collaborating on code.\n",
    "\n",
    "# Types of Comments in Python:\n",
    "1. Single-line Comments:\n",
    "\n",
    "Start with a hash symbol (#).\n",
    "\n",
    "# This is a single-line comment\n",
    "\n",
    "```\n",
    "x = 5  # Assigning the value 5 to x\n",
    "```\n",
    "\n",
    "2. Multi-line Comments:\n",
    "\n",
    "Not explicitly supported by Python as a specific feature.\n",
    "Achieved using triple quotes (''' or \"\"\"), which are technically multi-line strings. When not assigned to a variable, they are ignored as comments.\n",
    "python\n",
    "```\n",
    "'''\n",
    "This is a multi-line comment.\n",
    "It spans across multiple lines.\n",
    "'''\n",
    "def function_example():\n",
    "    pass\n",
    "```\n"
   ]
  },
  {
   "cell_type": "markdown",
   "metadata": {
    "id": "bnATdeqSPozw"
   },
   "source": [
    "# Variables\n",
    "\n",
    "- Variables are containers for **storing data values.**"
   ]
  },
  {
   "cell_type": "code",
   "execution_count": null,
   "metadata": {
    "colab": {
     "base_uri": "https://localhost:8080/"
    },
    "executionInfo": {
     "elapsed": 498,
     "status": "ok",
     "timestamp": 1725641485352,
     "user": {
      "displayName": "NAVNATH DESHMUKH",
      "userId": "07319468676285488010"
     },
     "user_tz": -330
    },
    "id": "UbFug55UPv3-",
    "outputId": "81843893-223a-413f-b328-e133882084fb"
   },
   "outputs": [
    {
     "name": "stdout",
     "output_type": "stream",
     "text": [
      "Priya\n"
     ]
    }
   ],
   "source": [
    "variable =\"Priya\"\n",
    "print(variable)"
   ]
  },
  {
   "cell_type": "markdown",
   "metadata": {
    "id": "OoqaVKIFQAlg"
   },
   "source": [
    "# Variable Types :\n",
    "\n",
    "**1. local variable** : They’re defined **inside a function** and are only accessible within that function."
   ]
  },
  {
   "cell_type": "code",
   "execution_count": null,
   "metadata": {
    "colab": {
     "base_uri": "https://localhost:8080/"
    },
    "executionInfo": {
     "elapsed": 578,
     "status": "ok",
     "timestamp": 1725641787910,
     "user": {
      "displayName": "NAVNATH DESHMUKH",
      "userId": "07319468676285488010"
     },
     "user_tz": -330
    },
    "id": "1bnwNrpAQdVX",
    "outputId": "6ce71430-9911-4bbb-9ab7-3e59905a87a8"
   },
   "outputs": [
    {
     "name": "stdout",
     "output_type": "stream",
     "text": [
      "Priya\n"
     ]
    }
   ],
   "source": [
    "\n",
    "def my_function():\n",
    "  x = \"Priya\"\n",
    "  print(x)\n",
    "\n",
    "my_function()"
   ]
  },
  {
   "cell_type": "markdown",
   "metadata": {
    "id": "xV0cfn2IRBll"
   },
   "source": [
    "**2. Gobal variable :**\n",
    "\n",
    " Variables that are created outside of a function (as in all of the examples in the previous pages) are known as global variables."
   ]
  },
  {
   "cell_type": "code",
   "execution_count": null,
   "metadata": {
    "colab": {
     "base_uri": "https://localhost:8080/"
    },
    "executionInfo": {
     "elapsed": 643,
     "status": "ok",
     "timestamp": 1725641961680,
     "user": {
      "displayName": "NAVNATH DESHMUKH",
      "userId": "07319468676285488010"
     },
     "user_tz": -330
    },
    "id": "5Yn2bkR7RU0d",
    "outputId": "546e5958-691e-47e9-8de3-40bde6093534"
   },
   "outputs": [
    {
     "name": "stdout",
     "output_type": "stream",
     "text": [
      "Priya\n"
     ]
    }
   ],
   "source": [
    "x = \"Priya\"\n",
    "\n",
    "def my_function():\n",
    "  print(x)\n",
    "\n",
    "my_function()"
   ]
  },
  {
   "cell_type": "markdown",
   "metadata": {
    "id": "jClSQQo8NplH"
   },
   "source": [
    "# **Operators**\n",
    "   Operators are used to perform operations on variables and values"
   ]
  },
  {
   "cell_type": "markdown",
   "metadata": {
    "id": "pMy_V6FMOmhF"
   },
   "source": [
    "1. **Arithmetic operators  :** are used to perform common mathematical operations on numerical values (integers, floating-point numbers, and complex numbers)."
   ]
  },
  {
   "cell_type": "code",
   "execution_count": null,
   "metadata": {
    "colab": {
     "base_uri": "https://localhost:8080/"
    },
    "executionInfo": {
     "elapsed": 692,
     "status": "ok",
     "timestamp": 1726413140124,
     "user": {
      "displayName": "NAVNATH DESHMUKH",
      "userId": "07319468676285488010"
     },
     "user_tz": -330
    },
    "id": "JlhUvay5N142",
    "outputId": "e180a848-b437-40c8-ec3e-00b46ce787d9"
   },
   "outputs": [
    {
     "name": "stdout",
     "output_type": "stream",
     "text": [
      "A + B :  101\n"
     ]
    }
   ],
   "source": [
    "a = 45\n",
    "b = 56\n",
    "print(\"A + B : \",a+b) #Adds Two Operands To Gether\n",
    "print(\"A - B : \",a-b) #Subtracts Second Operand From First\n",
    "print(\"A * B : \",a*b) #Multiplies Two Operands\n",
    "print(\"A / B : \",a/b) #Divides First Operand By Second\n",
    "print(\"A % B : \",a%b) #Modulus Operator Divides First Operand By Second And Returns Remainder\n",
    "print(\"A ** B : \",a**b) #Exponent Operator Raises First Operand To Power Of Second\n",
    "print(\"A // B : \",a//b) #Floor Division Operator Divides First Operand By Second And Returns Largest Whole Number"
   ]
  },
  {
   "cell_type": "markdown",
   "metadata": {
    "id": "w_tWMC5-RiLv"
   },
   "source": [
    "2. **Comparison operators** are used to compare two values"
   ]
  },
  {
   "cell_type": "code",
   "execution_count": null,
   "metadata": {
    "colab": {
     "base_uri": "https://localhost:8080/"
    },
    "executionInfo": {
     "elapsed": 645,
     "status": "ok",
     "timestamp": 1726414062197,
     "user": {
      "displayName": "NAVNATH DESHMUKH",
      "userId": "07319468676285488010"
     },
     "user_tz": -330
    },
    "id": "OfeFg511R0GI",
    "outputId": "95362d5d-e059-44e9-c74e-545a7410e159"
   },
   "outputs": [
    {
     "name": "stdout",
     "output_type": "stream",
     "text": [
      "A == B: False\n",
      "A!= B : True\n",
      "A > B : False\n",
      "A < B : True\n",
      "A >= B : False\n",
      "A <= B : True\n"
     ]
    }
   ],
   "source": [
    "print(\"A == B:\" , a== b) #Equal To Operator Compares If Both Operands Are Equal\n",
    "print(\"A!= B :\",a!=b) #Not Equal To Operator Compares If Both Operands Are Not Equal\n",
    "print(\"A > B :\",a>b) #Greater Than Operator Compares If First Operand Is Greater Than Second\n",
    "print(\"A < B :\",a<b) #Less Than Operator Compares If First Operand Is Less Than Second\n",
    "print(\"A >= B :\",a>=b) #Greater Than Or Equal To Operator Compares If First Operand Is Greater Than Or Equal To Second\n",
    "print(\"A <= B :\",a<=b) #Less Than Or Equal To Operator Compares\n"
   ]
  },
  {
   "cell_type": "markdown",
   "metadata": {
    "id": "cHXcunjmTJgq"
   },
   "source": [
    "3. **Logical operators (and, or, not)** perform logical operations, like combining conditional statements"
   ]
  },
  {
   "cell_type": "code",
   "execution_count": null,
   "metadata": {
    "colab": {
     "base_uri": "https://localhost:8080/"
    },
    "executionInfo": {
     "elapsed": 617,
     "status": "ok",
     "timestamp": 1726414771106,
     "user": {
      "displayName": "NAVNATH DESHMUKH",
      "userId": "07319468676285488010"
     },
     "user_tz": -330
    },
    "id": "eyAZvTWBTOGQ",
    "outputId": "8c73ce9b-eb34-477a-f5c7-a3a2c466ddf5"
   },
   "outputs": [
    {
     "name": "stdout",
     "output_type": "stream",
     "text": [
      "(a<b)and(b<a) : False\n",
      "(a<b)or(a>b)  :  True\n",
      "not(a<b)      : False\n"
     ]
    }
   ],
   "source": [
    "print(\"(a<b)and(b<a) :\",(a<b)and(b<a))\n",
    "print(\"(a<b)or(a>b)  : \",(a<b)or(a>b))\n",
    "print(\"not(a<b)      :\",not(a<b))"
   ]
  },
  {
   "cell_type": "markdown",
   "metadata": {
    "id": "YCpIOLPiU97W"
   },
   "source": [
    "4. **Assignment Operators** are used to assign values to variables. The most basic assignment operator is the equals sign (=)"
   ]
  },
  {
   "cell_type": "code",
   "execution_count": null,
   "metadata": {
    "colab": {
     "base_uri": "https://localhost:8080/"
    },
    "executionInfo": {
     "elapsed": 641,
     "status": "ok",
     "timestamp": 1726415319568,
     "user": {
      "displayName": "NAVNATH DESHMUKH",
      "userId": "07319468676285488010"
     },
     "user_tz": -330
    },
    "id": "ZNr4yw4pXeM0",
    "outputId": "241c873c-f84b-466b-bc62-40959abd26b9"
   },
   "outputs": [
    {
     "name": "stdout",
     "output_type": "stream",
     "text": [
      "x += 5: 15\n",
      "x -= 3: 12\n",
      "x *= 2: 24\n",
      "x /= 4: 6.0\n",
      "x %= 3: 0.0\n",
      "x //= 2: 0.0\n",
      "x **= 3: 0.0\n"
     ]
    }
   ],
   "source": [
    "# Initialize variable x\n",
    "x = 10\n",
    "\n",
    "# Add and assign\n",
    "x += 5\n",
    "print(\"x += 5:\", x)\n",
    "\n",
    "# Subtract and assign\n",
    "x -= 3\n",
    "print(\"x -= 3:\", x)\n",
    "\n",
    "# Multiply and assign\n",
    "x *= 2\n",
    "print(\"x *= 2:\", x)\n",
    "\n",
    "# Divide and assign\n",
    "x /= 4\n",
    "print(\"x /= 4:\", x)\n",
    "\n",
    "# Modulo and assign\n",
    "x %= 3\n",
    "print(\"x %= 3:\", x)\n",
    "\n",
    "# Floor divide and assign\n",
    "x //= 2\n",
    "print(\"x //= 2:\", x)\n",
    "\n",
    "# Exponentiate and assign\n",
    "x **= 3\n",
    "print(\"x **= 3:\", x)"
   ]
  },
  {
   "cell_type": "markdown",
   "metadata": {
    "id": "9tDi8jcHOlR7"
   },
   "source": [
    "5. **Bitwise Operators** are used to compare (binary) numbers:\n"
   ]
  },
  {
   "cell_type": "code",
   "execution_count": null,
   "metadata": {
    "colab": {
     "base_uri": "https://localhost:8080/"
    },
    "executionInfo": {
     "elapsed": 5,
     "status": "ok",
     "timestamp": 1726415897432,
     "user": {
      "displayName": "NAVNATH DESHMUKH",
      "userId": "07319468676285488010"
     },
     "user_tz": -330
    },
    "id": "xDWdfK1vZ-77",
    "outputId": "d5648d0c-7864-4d7f-c9a6-2fce26bfd0b2"
   },
   "outputs": [
    {
     "name": "stdout",
     "output_type": "stream",
     "text": [
      "a & b = 12\n",
      "a | b = 61\n",
      "a ^ b = 49\n",
      "~a = -61\n",
      "a << 2 = 240\n",
      "a >> 2 = 15\n"
     ]
    }
   ],
   "source": [
    "a = 60  # 0011 1100 in binary\n",
    "b = 13  # 0000 1101 in binary\n",
    "\n",
    "# Bitwise AND\n",
    "print(\"a & b =\", a & b)  # Output: 12 (0000 1100)\n",
    "# Bitwise OR\n",
    "print(\"a | b =\", a | b)  # Output: 61 (0011 1101)\n",
    "\n",
    "# Bitwise XOR\n",
    "print(\"a ^ b =\", a ^ b)  # Output: 49 (0011 0001)\n",
    "\n",
    "# Bitwise NOT\n",
    "print(\"~a =\", ~a)  # Output: -61 (due to two's complement)\n",
    "\n",
    "# Bitwise left shift\n",
    "print(\"a << 2 =\", a << 2) # Output: 240 (1111 0000)\n",
    "\n",
    "# Bitwise right shift\n",
    "print(\"a >> 2 =\", a >> 2)  # Output: 15 (0000 1111)"
   ]
  },
  {
   "cell_type": "markdown",
   "metadata": {
    "id": "TIpghsspbIYU"
   },
   "source": [
    "6. Membership Operators\n"
   ]
  },
  {
   "cell_type": "code",
   "execution_count": null,
   "metadata": {
    "colab": {
     "base_uri": "https://localhost:8080/"
    },
    "executionInfo": {
     "elapsed": 1531,
     "status": "ok",
     "timestamp": 1726417095770,
     "user": {
      "displayName": "NAVNATH DESHMUKH",
      "userId": "07319468676285488010"
     },
     "user_tz": -330
    },
    "id": "zcqIVDe3eXAY",
    "outputId": "88ebec23-ec22-4cf8-864a-a74ef76b80ff"
   },
   "outputs": [
    {
     "name": "stdout",
     "output_type": "stream",
     "text": [
      "False\n",
      "True\n",
      "True\n",
      "True\n"
     ]
    }
   ],
   "source": [
    "name = \"Priya Deshmukh\"\n",
    "fruits = [\"apple\", \"banana\", \"cherry\"]\n",
    "\n",
    "# Check if \"John\" is in the name\n",
    "print(\"John\" in name)  # Output: True\n",
    "\n",
    "# Check if \"Doe\" is not in the name\n",
    "print(\"Doe\" not in name)  # Output: False\n",
    "\n",
    "# Check if \"apple\" is in the fruits list\n",
    "print(\"apple\" in fruits)  # Output: True\n",
    "\n",
    "# Check if \"grape\" is not in the fruits list\n",
    "print(\"grape\" not in fruits)  # Output: True"
   ]
  },
  {
   "cell_type": "markdown",
   "metadata": {
    "id": "BqVi9efZfGZL"
   },
   "source": [
    "7. **Identity operators** are used to compare the memory locations of two objects. They determine if two variables refer to the exact same object in memory, not just if they have the same value."
   ]
  },
  {
   "cell_type": "code",
   "execution_count": null,
   "metadata": {
    "colab": {
     "base_uri": "https://localhost:8080/"
    },
    "executionInfo": {
     "elapsed": 1664,
     "status": "ok",
     "timestamp": 1726417499109,
     "user": {
      "displayName": "NAVNATH DESHMUKH",
      "userId": "07319468676285488010"
     },
     "user_tz": -330
    },
    "id": "Cw9h6xEffGtz",
    "outputId": "b3c9add4-9e9b-4383-8f80-92e5340d761e"
   },
   "outputs": [
    {
     "name": "stdout",
     "output_type": "stream",
     "text": [
      "True\n",
      "False\n",
      "True\n"
     ]
    }
   ],
   "source": [
    "x = [1, 2, 3]\n",
    "y = x\n",
    "z = [1, 2, 3]\n",
    "\n",
    "print(x is y)  # Output: True (x and y refer to the same list object)\n",
    "print(x is z)  # Output: False (x and z are different list objects)\n",
    "print(x == z)  # Output: True (x and z have the same value)"
   ]
  },
  {
   "cell_type": "markdown",
   "metadata": {
    "id": "IWQs9G0UT4sc"
   },
   "source": [
    "# **Data Types**\n",
    "\n",
    "**Variables** can store data of different types, and different types can do different things .\n",
    "1. Text Type:\tstr\n",
    "\n",
    "2. Numeric Types:\tint, float, complex\n",
    "\n",
    "3. Sequence Types:\tlist, tuple, range\n",
    "\n",
    "4. Mapping Type:\tdict\n",
    "\n",
    "5. Set Types:\tset, frozenset\n",
    "\n",
    "6. Boolean Type:\tbool\n",
    "\n",
    "7. Binary Types:\tbytes, bytearray, memoryview\n",
    "\n",
    "8. None Type:\tNoneType"
   ]
  },
  {
   "cell_type": "code",
   "execution_count": null,
   "metadata": {
    "colab": {
     "base_uri": "https://localhost:8080/"
    },
    "executionInfo": {
     "elapsed": 676,
     "status": "ok",
     "timestamp": 1726461787505,
     "user": {
      "displayName": "NAVNATH DESHMUKH",
      "userId": "07319468676285488010"
     },
     "user_tz": -330
    },
    "id": "TPgGo3a9JCCq",
    "outputId": "8d121b2e-e285-4e2a-e439-5c4028ac4e71"
   },
   "outputs": [
    {
     "name": "stdout",
     "output_type": "stream",
     "text": [
      "Text: Hello, world!, Type: <class 'str'>\n",
      "Integer: 10, Type: <class 'int'>\n",
      "Floating Point: 3.14, Type: <class 'float'>\n",
      "Complex Number: (2+5j), Type: <class 'complex'>\n",
      "List: [1, 2, 3, 4], Type: <class 'list'>\n",
      "Tuple: (5, 6, 7, 8), Type: <class 'tuple'>\n",
      "Range: range(1, 10), Type: <class 'range'>\n",
      "Dictionary: {'name': 'Alice', 'age': 30}, Type: <class 'dict'>\n",
      "Set: {1, 2, 3}, Type: <class 'set'>\n",
      "Frozenset: frozenset({4, 5, 6}), Type: <class 'frozenset'>\n",
      "Boolean True: True, Type: <class 'bool'>\n",
      "Boolean False: False, Type: <class 'bool'>\n",
      "Bytes: b'ABC', Type: <class 'bytes'>\n",
      "Bytearray: bytearray(b'DEF'), Type: <class 'bytearray'>\n",
      "Memoryview: <memory at 0x7fae78e3e800>, Type: <class 'memoryview'>\n",
      "None: None, Type: <class 'NoneType'>\n"
     ]
    }
   ],
   "source": [
    "# Text Type: str\n",
    "text = \"Hello, world!\"\n",
    "\n",
    "# Numeric Types: int, float, complex\n",
    "integer = 10\n",
    "floating_point = 3.14\n",
    "complex_number = 2 + 5j\n",
    "\n",
    "# Sequence Types: list, tuple, range\n",
    "my_list = [1, 2, 3, 4]\n",
    "my_tuple = (5, 6, 7, 8)\n",
    "my_range = range(1, 10)\n",
    "\n",
    "# Mapping Type: dict\n",
    "my_dict = {\"name\": \"Alice\", \"age\": 30}\n",
    "\n",
    "# Set Types: set, frozenset\n",
    "my_set = {1, 2, 3}\n",
    "my_frozenset = frozenset({4, 5, 6})\n",
    "\n",
    "# Boolean Type: bool\n",
    "is_true = True\n",
    "is_false = False\n",
    "\n",
    "# Binary Types: bytes, bytearray, memoryview\n",
    "my_bytes = bytes([65, 66, 67])  # Represents \"ABC\"\n",
    "my_bytearray = bytearray([68, 69, 70])  # Represents \"DEF\"\n",
    "my_memoryview = memoryview(my_bytes)\n",
    "\n",
    "# None Type: NoneType\n",
    "no_value = None\n",
    "\n",
    "# Print the values and their types\n",
    "print(f\"Text: {text}, Type: {type(text)}\")\n",
    "print(f\"Integer: {integer}, Type: {type(integer)}\")\n",
    "print(f\"Floating Point: {floating_point}, Type: {type(floating_point)}\")\n",
    "print(f\"Complex Number: {complex_number}, Type: {type(complex_number)}\")\n",
    "print(f\"List: {my_list}, Type: {type(my_list)}\")\n",
    "print(f\"Tuple: {my_tuple}, Type: {type(my_tuple)}\")\n",
    "print(f\"Range: {my_range}, Type: {type(my_range)}\")\n",
    "print(f\"Dictionary: {my_dict}, Type: {type(my_dict)}\")\n",
    "print(f\"Set: {my_set}, Type: {type(my_set)}\")\n",
    "print(f\"Frozenset: {my_frozenset}, Type: {type(my_frozenset)}\")\n",
    "print(f\"Boolean True: {is_true}, Type: {type(is_true)}\")\n",
    "print(f\"Boolean False: {is_false}, Type: {type(is_false)}\")\n",
    "print(f\"Bytes: {my_bytes}, Type: {type(my_bytes)}\")\n",
    "print(f\"Bytearray: {my_bytearray}, Type: {type(my_bytearray)}\")\n",
    "print(f\"Memoryview: {my_memoryview}, Type: {type(my_memoryview)}\")\n",
    "print(f\"None: {no_value}, Type: {type(no_value)}\")"
   ]
  },
  {
   "cell_type": "code",
   "execution_count": null,
   "metadata": {
    "colab": {
     "base_uri": "https://localhost:8080/"
    },
    "executionInfo": {
     "elapsed": 6472,
     "status": "ok",
     "timestamp": 1725642877140,
     "user": {
      "displayName": "NAVNATH DESHMUKH",
      "userId": "07319468676285488010"
     },
     "user_tz": -330
    },
    "id": "wNPCPdDzT39C",
    "outputId": "ab7be3a3-08b6-4a97-9e8d-99c05cc85625"
   },
   "outputs": [
    {
     "name": "stdout",
     "output_type": "stream",
     "text": [
      "Enter the value :5\n",
      "you value enter value  5\n"
     ]
    }
   ],
   "source": [
    "# Numeric Types\n",
    "a = int(input(\"Enter the value :\"))\n",
    "print(\"you value enter value \",a)"
   ]
  },
  {
   "cell_type": "code",
   "execution_count": null,
   "metadata": {
    "colab": {
     "base_uri": "https://localhost:8080/"
    },
    "executionInfo": {
     "elapsed": 15744,
     "status": "ok",
     "timestamp": 1725643178473,
     "user": {
      "displayName": "NAVNATH DESHMUKH",
      "userId": "07319468676285488010"
     },
     "user_tz": -330
    },
    "id": "euSvbE8hVXLp",
    "outputId": "13c90ce6-14a0-4c3d-d25f-42ab7ef6f9b1"
   },
   "outputs": [
    {
     "name": "stdout",
     "output_type": "stream",
     "text": [
      "Enter the value a45.6\n",
      "45.6\n"
     ]
    }
   ],
   "source": [
    "a = float(input(\"Enter the value a :\"))\n",
    "print(a)"
   ]
  },
  {
   "cell_type": "code",
   "execution_count": null,
   "metadata": {
    "colab": {
     "base_uri": "https://localhost:8080/"
    },
    "executionInfo": {
     "elapsed": 13719,
     "status": "ok",
     "timestamp": 1725643196096,
     "user": {
      "displayName": "NAVNATH DESHMUKH",
      "userId": "07319468676285488010"
     },
     "user_tz": -330
    },
    "id": "rCKU0afTWDSS",
    "outputId": "2ebf6381-29be-412c-d74b-05bc70065321"
   },
   "outputs": [
    {
     "name": "stdout",
     "output_type": "stream",
     "text": [
      "Enter the value complex4+7j\n",
      "(4+7j)\n"
     ]
    }
   ],
   "source": [
    "a=complex(input(\"Enter the value complex :\"))\n",
    "print(a)"
   ]
  },
  {
   "cell_type": "code",
   "execution_count": null,
   "metadata": {
    "colab": {
     "base_uri": "https://localhost:8080/"
    },
    "executionInfo": {
     "elapsed": 5,
     "status": "ok",
     "timestamp": 1725643297687,
     "user": {
      "displayName": "NAVNATH DESHMUKH",
      "userId": "07319468676285488010"
     },
     "user_tz": -330
    },
    "id": "9fzOy3gNWjLA",
    "outputId": "e8ab0b22-6493-4138-ed3b-c32005e243ce"
   },
   "outputs": [
    {
     "name": "stdout",
     "output_type": "stream",
     "text": [
      "<class 'float'>\n",
      "<class 'complex'>\n"
     ]
    }
   ],
   "source": [
    "print(type(a))\n",
    "a= 56.78j\n",
    "print(type(a))"
   ]
  },
  {
   "cell_type": "markdown",
   "metadata": {
    "id": "EqDrCef_WeEy"
   },
   "source": [
    "# String Manipulation\n",
    "**String :** : It is sequence of characters enclosed with single and double qoutes"
   ]
  },
  {
   "cell_type": "code",
   "execution_count": null,
   "metadata": {
    "colab": {
     "base_uri": "https://localhost:8080/"
    },
    "executionInfo": {
     "elapsed": 607,
     "status": "ok",
     "timestamp": 1725643762168,
     "user": {
      "displayName": "NAVNATH DESHMUKH",
      "userId": "07319468676285488010"
     },
     "user_tz": -330
    },
    "id": "GJIOCMGzXdrP",
    "outputId": "6f0efcfb-e73e-4c6b-fa73-eb916b38d18c"
   },
   "outputs": [
    {
     "name": "stdout",
     "output_type": "stream",
     "text": [
      "56\n",
      "Priya Navnath\n",
      "PriyaNavnath\n"
     ]
    }
   ],
   "source": [
    "str = 56\n",
    "str1 = \"Priya\"\n",
    "str2 = 'Navnath'\n",
    "print(str)\n",
    "print(str1 ,str2)\n",
    "print(str1 + str2)"
   ]
  },
  {
   "cell_type": "code",
   "execution_count": null,
   "metadata": {
    "colab": {
     "base_uri": "https://localhost:8080/"
    },
    "executionInfo": {
     "elapsed": 582,
     "status": "ok",
     "timestamp": 1725645567080,
     "user": {
      "displayName": "NAVNATH DESHMUKH",
      "userId": "07319468676285488010"
     },
     "user_tz": -330
    },
    "id": "Z3wTfnWzYjq_",
    "outputId": "037060c1-0938-403f-ac3a-f12df3187166"
   },
   "outputs": [
    {
     "name": "stdout",
     "output_type": "stream",
     "text": [
      "Navnath\n",
      "7\n",
      "NAVNATH\n",
      "navnath\n",
      "Navnath\n",
      "Navnath\n",
      "nAVNATH\n",
      "5\n",
      "6\n",
      "2\n",
      "NAvnAth\n",
      "True\n",
      "True\n",
      "4\n",
      "navnath\n",
      "Navnath\n",
      "True\n",
      "False\n",
      "                   Navnath                    \n"
     ]
    }
   ],
   "source": [
    "# String Method\n",
    "str =\"Navnath\"\n",
    "print(str)\n",
    "print(len(str))\n",
    "print(str.upper())\n",
    "print(str.lower())\n",
    "print(str.capitalize())\n",
    "print(str.title())\n",
    "print(str.swapcase())\n",
    "print(str.find(\"t\"))\n",
    "print(str.index(\"h\"))\n",
    "print(str.count(\"a\"))\n",
    "print(str.replace(\"a\",\"A\"))\n",
    "print(str.startswith(\"N\"))\n",
    "print(str.endswith(\"h\"))\n",
    "print(str.rindex(\"a\"))\n",
    "print(str.casefold())\n",
    "print(str.format())\n",
    "print(str.isalpha())\n",
    "print(str.isnumeric())\n",
    "print(str.center(46))"
   ]
  },
  {
   "cell_type": "markdown",
   "metadata": {
    "id": "ITEMo4IFxQXx"
   },
   "source": [
    "# Data Structures\n",
    "**List** is a collection which is ordered and changeable. Allows duplicate members."
   ]
  },
  {
   "cell_type": "code",
   "execution_count": 1,
   "metadata": {
    "id": "O8sLcI4exwuS"
   },
   "outputs": [],
   "source": [
    "l=[1,2,3,4,\"Navnath\",\"Priya\",99.8]"
   ]
  },
  {
   "cell_type": "code",
   "execution_count": 2,
   "metadata": {
    "colab": {
     "base_uri": "https://localhost:8080/"
    },
    "executionInfo": {
     "elapsed": 463,
     "status": "ok",
     "timestamp": 1725902200692,
     "user": {
      "displayName": "NAVNATH DESHMUKH",
      "userId": "07319468676285488010"
     },
     "user_tz": -330
    },
    "id": "lCu_0J7ZyXTO",
    "outputId": "d43b461e-a8a5-4d25-8b31-0504cd2feb6d"
   },
   "outputs": [
    {
     "name": "stdout",
     "output_type": "stream",
     "text": [
      "[1, 2, 3, 4, 'Navnath', 'Priya', 99.8]\n"
     ]
    }
   ],
   "source": [
    "print(l)"
   ]
  },
  {
   "cell_type": "code",
   "execution_count": 7,
   "metadata": {},
   "outputs": [
    {
     "name": "stdout",
     "output_type": "stream",
     "text": [
      "15\n"
     ]
    }
   ],
   "source": [
    "print(len(l))"
   ]
  },
  {
   "cell_type": "code",
   "execution_count": 8,
   "metadata": {
    "colab": {
     "base_uri": "https://localhost:8080/"
    },
    "executionInfo": {
     "elapsed": 509,
     "status": "ok",
     "timestamp": 1725902412563,
     "user": {
      "displayName": "NAVNATH DESHMUKH",
      "userId": "07319468676285488010"
     },
     "user_tz": -330
    },
    "id": "DXrsTFu_zAGM",
    "outputId": "3b1d0b83-27e9-4ed3-e1af-080da68cbadf"
   },
   "outputs": [
    {
     "name": "stdout",
     "output_type": "stream",
     "text": [
      "None\n"
     ]
    }
   ],
   "source": [
    "print(l.append(\"Madam Rani\"))"
   ]
  },
  {
   "cell_type": "code",
   "execution_count": 9,
   "metadata": {
    "colab": {
     "base_uri": "https://localhost:8080/"
    },
    "executionInfo": {
     "elapsed": 5,
     "status": "ok",
     "timestamp": 1725902463089,
     "user": {
      "displayName": "NAVNATH DESHMUKH",
      "userId": "07319468676285488010"
     },
     "user_tz": -330
    },
    "id": "n4yjs0_4zOvZ",
    "outputId": "3c8d256b-553c-41c6-a062-125e4d862209"
   },
   "outputs": [
    {
     "name": "stdout",
     "output_type": "stream",
     "text": [
      "[1, 2, 3, 4, 'Navnath', 'Priya', 99.8, 'madam', 'S', 'h', 'a', 'l', 'i', 'n', 'i', 'Madam Rani']\n"
     ]
    }
   ],
   "source": [
    "print(l)"
   ]
  },
  {
   "cell_type": "code",
   "execution_count": 5,
   "metadata": {
    "colab": {
     "base_uri": "https://localhost:8080/"
    },
    "executionInfo": {
     "elapsed": 536,
     "status": "ok",
     "timestamp": 1725902533118,
     "user": {
      "displayName": "NAVNATH DESHMUKH",
      "userId": "07319468676285488010"
     },
     "user_tz": -330
    },
    "id": "z65mKuEHzb7m",
    "outputId": "555f5824-a49b-4063-832a-b1d639fb7103"
   },
   "outputs": [
    {
     "name": "stdout",
     "output_type": "stream",
     "text": [
      "None\n"
     ]
    }
   ],
   "source": [
    "print(l.extend(\"Shalini\")) # split word  into letter"
   ]
  },
  {
   "cell_type": "code",
   "execution_count": null,
   "metadata": {},
   "outputs": [
    {
     "name": "stdout",
     "output_type": "stream",
     "text": [
      "['Navi Mumbai', 'Delhi', 'Pune', 1, 2, 'Nitin', 3, 4, 'Navnath', 'Priya', 99.8, 'madam', 'S', 'h', 'a', 'l', 'i', 'n', 'i', 'Madam Rani']\n"
     ]
    }
   ],
   "source": [
    "l2=[\"Navi Mumbai\",\"Delhi\",\"Pune\"]\n",
    "\n",
    "l2.extend(l)  #extend method is used to add the list to the end of the list\n",
    "\n",
    "print(l2)"
   ]
  },
  {
   "cell_type": "code",
   "execution_count": 18,
   "metadata": {
    "colab": {
     "base_uri": "https://localhost:8080/"
    },
    "executionInfo": {
     "elapsed": 453,
     "status": "ok",
     "timestamp": 1725902544422,
     "user": {
      "displayName": "NAVNATH DESHMUKH",
      "userId": "07319468676285488010"
     },
     "user_tz": -330
    },
    "id": "qManDAOfzrwj",
    "outputId": "80b4db49-cb22-4015-d27d-db719bd4da24"
   },
   "outputs": [
    {
     "name": "stdout",
     "output_type": "stream",
     "text": [
      "['Navi Mumbai', 'Delhi', 'Pune', 1, 2, 'Nitin', 3, 4, 'Navnath', 'Priya', 99.8, 'madam', 'S', 'h', 'a', 'l', 'i', 'n', 'i', 'Madam Rani']\n"
     ]
    }
   ],
   "source": [
    "print(l2)"
   ]
  },
  {
   "cell_type": "code",
   "execution_count": 10,
   "metadata": {
    "colab": {
     "base_uri": "https://localhost:8080/"
    },
    "executionInfo": {
     "elapsed": 482,
     "status": "ok",
     "timestamp": 1725902685491,
     "user": {
      "displayName": "NAVNATH DESHMUKH",
      "userId": "07319468676285488010"
     },
     "user_tz": -330
    },
    "id": "2kJ3ZO_70Auc",
    "outputId": "5049fb54-4442-469c-9575-4dc26493ad2b"
   },
   "outputs": [
    {
     "name": "stdout",
     "output_type": "stream",
     "text": [
      "None\n",
      "[1, 2, 'Nitin', 3, 4, 'Navnath', 'Priya', 99.8, 'madam', 'S', 'h', 'a', 'l', 'i', 'n', 'i', 'Madam Rani']\n"
     ]
    }
   ],
   "source": [
    "print(l.insert(2,\"Nitin\"))\n",
    "print(l)"
   ]
  },
  {
   "cell_type": "code",
   "execution_count": null,
   "metadata": {
    "colab": {
     "base_uri": "https://localhost:8080/"
    },
    "executionInfo": {
     "elapsed": 438,
     "status": "ok",
     "timestamp": 1725902728538,
     "user": {
      "displayName": "NAVNATH DESHMUKH",
      "userId": "07319468676285488010"
     },
     "user_tz": -330
    },
    "id": "RvFEKPCR0Sy8",
    "outputId": "4f40578f-58ea-468f-9377-136b55b929e7"
   },
   "outputs": [
    {
     "name": "stdout",
     "output_type": "stream",
     "text": [
      "None\n",
      "['Nitin', 1, 2, 3, 'Navnath', 'Priya', 99.8, 'madam', 'S', 'h', 'a', 'l', 'i', 'n', 'i']\n"
     ]
    }
   ],
   "source": [
    "print(l.remove(4))\n",
    "print(l)"
   ]
  },
  {
   "cell_type": "code",
   "execution_count": null,
   "metadata": {
    "colab": {
     "base_uri": "https://localhost:8080/"
    },
    "executionInfo": {
     "elapsed": 460,
     "status": "ok",
     "timestamp": 1725902766121,
     "user": {
      "displayName": "NAVNATH DESHMUKH",
      "userId": "07319468676285488010"
     },
     "user_tz": -330
    },
    "id": "gLuu3KBl0cS7",
    "outputId": "770eff8b-6c57-4beb-edfc-36a04c0fe543"
   },
   "outputs": [
    {
     "name": "stdout",
     "output_type": "stream",
     "text": [
      "1\n",
      "['Nitin', 2, 3, 'Navnath', 'Priya', 99.8, 'madam', 'S', 'h', 'a', 'l', 'i', 'n', 'i']\n"
     ]
    }
   ],
   "source": [
    "print(l.pop(1))\n",
    "print(l)"
   ]
  },
  {
   "cell_type": "code",
   "execution_count": null,
   "metadata": {
    "id": "05OjnhoS0pAH"
   },
   "outputs": [],
   "source": [
    "print(l.clear())\n",
    "print(l)"
   ]
  },
  {
   "cell_type": "code",
   "execution_count": null,
   "metadata": {
    "colab": {
     "base_uri": "https://localhost:8080/"
    },
    "executionInfo": {
     "elapsed": 473,
     "status": "ok",
     "timestamp": 1725902989646,
     "user": {
      "displayName": "NAVNATH DESHMUKH",
      "userId": "07319468676285488010"
     },
     "user_tz": -330
    },
    "id": "QHXlR9gq0thl",
    "outputId": "a1017c3f-adbc-4064-ee56-8790ed1090e5"
   },
   "outputs": [
    {
     "name": "stdout",
     "output_type": "stream",
     "text": [
      "1\n"
     ]
    }
   ],
   "source": [
    "print(l.count(2))"
   ]
  },
  {
   "cell_type": "code",
   "execution_count": null,
   "metadata": {
    "colab": {
     "base_uri": "https://localhost:8080/"
    },
    "executionInfo": {
     "elapsed": 491,
     "status": "ok",
     "timestamp": 1725903012659,
     "user": {
      "displayName": "NAVNATH DESHMUKH",
      "userId": "07319468676285488010"
     },
     "user_tz": -330
    },
    "id": "9oj8h9K51cFn",
    "outputId": "46eda229-7b66-4293-8fe6-0d4ce9b88c6f"
   },
   "outputs": [
    {
     "name": "stdout",
     "output_type": "stream",
     "text": [
      "['Nitin', 2, 3, 'Navnath', 'Priya', 99.8, 'madam', 'S', 'h', 'a', 'l', 'i', 'n', 'i']\n",
      "['Nitin', 2, 3, 'Navnath', 'Priya', 99.8, 'madam', 'S', 'h', 'a', 'l', 'i', 'n', 'i']\n"
     ]
    }
   ],
   "source": [
    "print(l.copy())\n",
    "print(l)"
   ]
  },
  {
   "cell_type": "code",
   "execution_count": null,
   "metadata": {
    "colab": {
     "base_uri": "https://localhost:8080/"
    },
    "executionInfo": {
     "elapsed": 479,
     "status": "ok",
     "timestamp": 1725903170758,
     "user": {
      "displayName": "NAVNATH DESHMUKH",
      "userId": "07319468676285488010"
     },
     "user_tz": -330
    },
    "id": "t7qhznLM1g9Y",
    "outputId": "d62944d5-b658-4514-ef59-b90c4e08e6c7"
   },
   "outputs": [
    {
     "name": "stdout",
     "output_type": "stream",
     "text": [
      "<built-in method sort of list object at 0x7f5fe29a6380>\n",
      "['Nitin', 2, 3, 'Navnath', 'Priya', 99.8, 'madam', 'S', 'h', 'a', 'l', 'i', 'n', 'i']\n"
     ]
    }
   ],
   "source": [
    "print(l.sort)\n",
    "print(l)"
   ]
  },
  {
   "cell_type": "code",
   "execution_count": null,
   "metadata": {
    "colab": {
     "base_uri": "https://localhost:8080/"
    },
    "executionInfo": {
     "elapsed": 11,
     "status": "ok",
     "timestamp": 1725903188649,
     "user": {
      "displayName": "NAVNATH DESHMUKH",
      "userId": "07319468676285488010"
     },
     "user_tz": -330
    },
    "id": "8k2XBvJb2D3Q",
    "outputId": "ceecad26-1b90-4430-9fb0-3918a61e6512"
   },
   "outputs": [
    {
     "name": "stdout",
     "output_type": "stream",
     "text": [
      "None\n",
      "['i', 'n', 'i', 'l', 'a', 'h', 'S', 'madam', 99.8, 'Priya', 'Navnath', 3, 2, 'Nitin']\n"
     ]
    }
   ],
   "source": [
    "print(l.reverse())\n",
    "print(l)"
   ]
  },
  {
   "cell_type": "code",
   "execution_count": null,
   "metadata": {
    "colab": {
     "base_uri": "https://localhost:8080/",
     "height": 185
    },
    "collapsed": true,
    "executionInfo": {
     "elapsed": 719,
     "status": "error",
     "timestamp": 1725903725532,
     "user": {
      "displayName": "NAVNATH DESHMUKH",
      "userId": "07319468676285488010"
     },
     "user_tz": -330
    },
    "id": "qHwKOD9g2Mfr",
    "outputId": "ee1a94da-3994-4102-9c23-f0d2dbcba229"
   },
   "outputs": [
    {
     "ename": "IndexError",
     "evalue": "list index out of range",
     "output_type": "error",
     "traceback": [
      "\u001b[0;31m---------------------------------------------------------------------------\u001b[0m",
      "\u001b[0;31mIndexError\u001b[0m                                Traceback (most recent call last)",
      "\u001b[0;32m<ipython-input-37-cb0cce70932d>\u001b[0m in \u001b[0;36m<cell line: 1>\u001b[0;34m()\u001b[0m\n\u001b[0;32m----> 1\u001b[0;31m \u001b[0mprint\u001b[0m\u001b[0;34m(\u001b[0m\u001b[0;34m\"index 0 value is :\"\u001b[0m\u001b[0;34m,\u001b[0m\u001b[0ml\u001b[0m\u001b[0;34m[\u001b[0m\u001b[0;36m0\u001b[0m\u001b[0;34m]\u001b[0m\u001b[0;34m)\u001b[0m\u001b[0;34m\u001b[0m\u001b[0;34m\u001b[0m\u001b[0m\n\u001b[0m\u001b[1;32m      2\u001b[0m \u001b[0mprint\u001b[0m\u001b[0;34m(\u001b[0m\u001b[0;34m\"index  value 0: -1 is :\"\u001b[0m\u001b[0;34m,\u001b[0m\u001b[0ml\u001b[0m\u001b[0;34m[\u001b[0m\u001b[0;36m0\u001b[0m\u001b[0;34m:\u001b[0m\u001b[0;34m-\u001b[0m\u001b[0;36m1\u001b[0m\u001b[0;34m]\u001b[0m\u001b[0;34m)\u001b[0m\u001b[0;34m\u001b[0m\u001b[0;34m\u001b[0m\u001b[0m\n\u001b[1;32m      3\u001b[0m \u001b[0mprint\u001b[0m\u001b[0;34m(\u001b[0m\u001b[0;34m\"index value of \"\u001b[0m\u001b[0;34m,\u001b[0m \u001b[0ml\u001b[0m\u001b[0;34m[\u001b[0m\u001b[0;34m:\u001b[0m\u001b[0;34m]\u001b[0m\u001b[0;34m)\u001b[0m\u001b[0;34m\u001b[0m\u001b[0;34m\u001b[0m\u001b[0m\n",
      "\u001b[0;31mIndexError\u001b[0m: list index out of range"
     ]
    }
   ],
   "source": [
    "print(\"index 0 value is :\",l[0])\n",
    "print(\"index  value 0: -1 is :\",l[0:-1])\n",
    "print(\"index value of \", l[:])"
   ]
  },
  {
   "cell_type": "code",
   "execution_count": null,
   "metadata": {
    "colab": {
     "base_uri": "https://localhost:8080/"
    },
    "executionInfo": {
     "elapsed": 652,
     "status": "ok",
     "timestamp": 1725903684359,
     "user": {
      "displayName": "NAVNATH DESHMUKH",
      "userId": "07319468676285488010"
     },
     "user_tz": -330
    },
    "id": "tVniHNR-2WMG",
    "outputId": "ff4d8c82-1685-48fc-8f8a-45116674aa35"
   },
   "outputs": [
    {
     "name": "stdout",
     "output_type": "stream",
     "text": [
      "[]\n"
     ]
    }
   ],
   "source": [
    "l2=[]\n",
    "l1=[]\n",
    "print(l2+l1)"
   ]
  },
  {
   "cell_type": "code",
   "execution_count": null,
   "metadata": {
    "colab": {
     "base_uri": "https://localhost:8080/"
    },
    "executionInfo": {
     "elapsed": 735,
     "status": "ok",
     "timestamp": 1725903881903,
     "user": {
      "displayName": "NAVNATH DESHMUKH",
      "userId": "07319468676285488010"
     },
     "user_tz": -330
    },
    "id": "cRmQHuq434nY",
    "outputId": "76ec10cd-2d80-426b-967a-4f46aa1f2bc3"
   },
   "outputs": [
    {
     "name": "stdout",
     "output_type": "stream",
     "text": [
      "['Priya', 'Navnath', 'Nitin', 1, 2, 3, 4, 5]\n",
      "['Navnath', 'Nitin', 'Priya']\n"
     ]
    }
   ],
   "source": [
    "l0=[1,2,3,4,5]\n",
    "l=[\"Priya\",\"Navnath\",\"Nitin\"]\n",
    "print(l + l0)\n",
    "list =  l\n",
    "list.sort()\n",
    "print(list)"
   ]
  },
  {
   "cell_type": "markdown",
   "metadata": {
    "id": "ZOcyyTFiIO9s"
   },
   "source": [
    "**Tuple** is a collection which is ordered and unchangeable. Allows duplicate members"
   ]
  },
  {
   "cell_type": "code",
   "execution_count": null,
   "metadata": {
    "colab": {
     "base_uri": "https://localhost:8080/"
    },
    "executionInfo": {
     "elapsed": 713,
     "status": "ok",
     "timestamp": 1726459133910,
     "user": {
      "displayName": "NAVNATH DESHMUKH",
      "userId": "07319468676285488010"
     },
     "user_tz": -330
    },
    "id": "ewLo5vO6IPdS",
    "outputId": "bf9c045b-2e7b-465c-f71d-106565de2362"
   },
   "outputs": [
    {
     "name": "stdout",
     "output_type": "stream",
     "text": [
      "(1, 2, 3, 4, 5, 6, 7, 8, 9)\n"
     ]
    }
   ],
   "source": [
    "T = (1,2,3,4,5,6,7,8,9)\n",
    "print(T)"
   ]
  },
  {
   "cell_type": "code",
   "execution_count": null,
   "metadata": {
    "colab": {
     "base_uri": "https://localhost:8080/"
    },
    "executionInfo": {
     "elapsed": 589,
     "status": "ok",
     "timestamp": 1726459851635,
     "user": {
      "displayName": "NAVNATH DESHMUKH",
      "userId": "07319468676285488010"
     },
     "user_tz": -330
    },
    "id": "EJeRxSFgieDR",
    "outputId": "d5a6e573-a342-4db9-de7e-4108e0a14e2e"
   },
   "outputs": [
    {
     "name": "stdout",
     "output_type": "stream",
     "text": [
      "<class 'tuple'>\n",
      "1\n",
      "0\n",
      "9\n",
      "1\n",
      "(3, 4, 5)\n",
      "9\n",
      "(6, 7, 8)\n"
     ]
    }
   ],
   "source": [
    "print(type(T))\n",
    "print(T.count(3))\n",
    "print(T.index(1))\n",
    "print(len(T))\n",
    "print(T[0]) #You can access tuple items by referring to the index number, inside square brackets:\n",
    "print(T[2:5])#Return the third, fourth, and fifth item\n",
    "print(T[-1])#Negative indexing means starting from the end of the tuple.\n",
    "print(T[-4:-1])#This example returns the items from index -4 (included) to index -1 (excluded)\n",
    "\n",
    "\n"
   ]
  },
  {
   "cell_type": "markdown",
   "metadata": {
    "id": "0HnApsQzBsBt"
   },
   "source": [
    "**Change Tuple Values :**\n",
    "\n",
    "Once a tuple is created, you cannot change its values. Tuples are unchangeable, or immutable as it also is called.\n",
    "\n",
    "But there is a workaround. You can convert the tuple into a list, change the list, and convert the list back into a tuple"
   ]
  },
  {
   "cell_type": "code",
   "execution_count": null,
   "metadata": {
    "colab": {
     "base_uri": "https://localhost:8080/"
    },
    "executionInfo": {
     "elapsed": 5,
     "status": "ok",
     "timestamp": 1726460332032,
     "user": {
      "displayName": "NAVNATH DESHMUKH",
      "userId": "07319468676285488010"
     },
     "user_tz": -330
    },
    "id": "5BCu06ZhBzfm",
    "outputId": "666fae45-9967-4d15-e5d8-f90d9eafffaa"
   },
   "outputs": [
    {
     "name": "stdout",
     "output_type": "stream",
     "text": [
      "(1, 'Piya', 3, 4, 5, 6, 7, 8, 9)\n"
     ]
    }
   ],
   "source": [
    "y = list(T)\n",
    "y[1] = \"Piya\"\n",
    "T= tuple(y)\n",
    "\n",
    "print(T)"
   ]
  },
  {
   "cell_type": "markdown",
   "metadata": {
    "id": "q55sopWUDtcf"
   },
   "source": [
    "**Convert into a list:** Just like the workaround for changing a tuple, you can convert it into a list, add your item(s), and convert it back into a tuple."
   ]
  },
  {
   "cell_type": "code",
   "execution_count": null,
   "metadata": {
    "colab": {
     "base_uri": "https://localhost:8080/"
    },
    "executionInfo": {
     "elapsed": 628,
     "status": "ok",
     "timestamp": 1726460610849,
     "user": {
      "displayName": "NAVNATH DESHMUKH",
      "userId": "07319468676285488010"
     },
     "user_tz": -330
    },
    "id": "AqjChYy-Dzx_",
    "outputId": "2e070894-a135-41d0-eb1f-8c4ec5e7c853"
   },
   "outputs": [
    {
     "name": "stdout",
     "output_type": "stream",
     "text": [
      "(1, 2, 3, 4, 5, 6, 'Priya')\n"
     ]
    }
   ],
   "source": [
    "X = (1,2,3,4,5,6)\n",
    "y = list(X)\n",
    "y.append(\"Priya\")\n",
    "X = tuple(y)\n",
    "print(X)"
   ]
  },
  {
   "cell_type": "markdown",
   "metadata": {
    "id": "IWvuyZU5Eqeg"
   },
   "source": [
    "**Add tuple to a tuple**. You are allowed to add tuples to tuples, so if you want to add one item, (or many), create a new tuple with the item(s), and add it to the existing tuple"
   ]
  },
  {
   "cell_type": "code",
   "execution_count": null,
   "metadata": {
    "colab": {
     "base_uri": "https://localhost:8080/"
    },
    "executionInfo": {
     "elapsed": 584,
     "status": "ok",
     "timestamp": 1726461127046,
     "user": {
      "displayName": "NAVNATH DESHMUKH",
      "userId": "07319468676285488010"
     },
     "user_tz": -330
    },
    "id": "kXovrmgrEtKX",
    "outputId": "2fdc2a05-4e09-4442-a3ee-12cdc1d6ed1e"
   },
   "outputs": [
    {
     "name": "stdout",
     "output_type": "stream",
     "text": [
      "(1, 2, 3, 4, 5, 6, 7, 8, 9)\n",
      "(1, 2, 3, 4, 5, 6, 'Priya', 1, 2, 3, 4, 5, 6, 'Priya')\n"
     ]
    }
   ],
   "source": [
    "x=(1,2,3,4,5)\n",
    "y=(6,7,8,9)\n",
    "print(x+y) #To join two or more tuples you can use the + operator\n",
    "print(X * 2) #If you want to multiply the content of a tuple a given number of times, you can use the * operator\n"
   ]
  },
  {
   "cell_type": "markdown",
   "metadata": {
    "id": "ycLYA01_FKav"
   },
   "source": [
    "**Remove Items**\n",
    "\n",
    "Tuples are unchangeable, so you cannot remove items from it, but you can use the same workaround as we used for changing and adding tuple items:"
   ]
  },
  {
   "cell_type": "code",
   "execution_count": null,
   "metadata": {
    "colab": {
     "base_uri": "https://localhost:8080/"
    },
    "executionInfo": {
     "elapsed": 5,
     "status": "ok",
     "timestamp": 1726460969506,
     "user": {
      "displayName": "NAVNATH DESHMUKH",
      "userId": "07319468676285488010"
     },
     "user_tz": -330
    },
    "id": "nybs5haqFWC4",
    "outputId": "9bec24c2-09b1-403a-e6d8-c1d5666e8ef0"
   },
   "outputs": [
    {
     "name": "stdout",
     "output_type": "stream",
     "text": [
      "(1, 2, 4, 5)\n"
     ]
    }
   ],
   "source": [
    "y =list(x)\n",
    "y.remove(3)\n",
    "x = tuple(y)\n",
    "print(x)"
   ]
  },
  {
   "cell_type": "markdown",
   "metadata": {
    "id": "2MaxvFYRF-Qe"
   },
   "source": [
    "**Set :** A set is a collection which is unordered, unchangeable*, and unindexed.\n",
    "\n",
    "Sets are written with curly brackets"
   ]
  },
  {
   "cell_type": "code",
   "execution_count": null,
   "metadata": {
    "id": "xwFY7FkfLP2L"
   },
   "outputs": [],
   "source": [
    "my_set = {1, 2, 3}"
   ]
  },
  {
   "cell_type": "code",
   "execution_count": null,
   "metadata": {
    "colab": {
     "base_uri": "https://localhost:8080/"
    },
    "executionInfo": {
     "elapsed": 614,
     "status": "ok",
     "timestamp": 1726462601615,
     "user": {
      "displayName": "NAVNATH DESHMUKH",
      "userId": "07319468676285488010"
     },
     "user_tz": -330
    },
    "id": "QAHHrrWCMJGC",
    "outputId": "6dce8d0b-8bcd-490c-c25a-839c80ac90e3"
   },
   "outputs": [
    {
     "name": "stdout",
     "output_type": "stream",
     "text": [
      "{1, 3, 4}\n"
     ]
    }
   ],
   "source": [
    "# 1. add(): Adds an element to the set\n",
    "my_set.add(4)\n",
    "print(my_set)  # Output: {1, 2, 3, 4}"
   ]
  },
  {
   "cell_type": "code",
   "execution_count": null,
   "metadata": {
    "colab": {
     "base_uri": "https://localhost:8080/"
    },
    "executionInfo": {
     "elapsed": 651,
     "status": "ok",
     "timestamp": 1726462639543,
     "user": {
      "displayName": "NAVNATH DESHMUKH",
      "userId": "07319468676285488010"
     },
     "user_tz": -330
    },
    "id": "C0m0_jldMLhI",
    "outputId": "39bb5ccc-c559-4897-9b6a-ec066996b46c"
   },
   "outputs": [
    {
     "name": "stdout",
     "output_type": "stream",
     "text": [
      "set()\n"
     ]
    }
   ],
   "source": [
    "# 2. clear(): Removes all elements from the set\n",
    "my_set.clear()\n",
    "print(my_set)  # Output: set()"
   ]
  },
  {
   "cell_type": "code",
   "execution_count": null,
   "metadata": {
    "colab": {
     "base_uri": "https://localhost:8080/"
    },
    "executionInfo": {
     "elapsed": 647,
     "status": "ok",
     "timestamp": 1726477137424,
     "user": {
      "displayName": "NAVNATH DESHMUKH",
      "userId": "07319468676285488010"
     },
     "user_tz": -330
    },
    "id": "1QEKrKP8MYI3",
    "outputId": "213585e2-73dd-4029-e24a-7566038a410f"
   },
   "outputs": [
    {
     "name": "stdout",
     "output_type": "stream",
     "text": [
      "{1, 2, 3}\n"
     ]
    }
   ],
   "source": [
    "# Create a new set for the following methods\n",
    "my_set = {1, 2, 3}\n",
    "\n",
    "# 3. copy(): Returns a shallow copy of the set\n",
    "new_set = my_set.copy()\n",
    "print(new_set)  # Output: {1, 2, 3}"
   ]
  },
  {
   "cell_type": "code",
   "execution_count": null,
   "metadata": {
    "id": "4n66FyZ7MaKV"
   },
   "outputs": [],
   "source": [
    "# 4. difference(): Returns a set containing the difference between two or more sets\n",
    "set1 = {1, 2, 3}\n",
    "set2 = {3, 4, 5}\n",
    "diff_set = set1.difference(set2)\n",
    "print(diff_set)  # Output: {1, 2}"
   ]
  },
  {
   "cell_type": "code",
   "execution_count": null,
   "metadata": {
    "colab": {
     "base_uri": "https://localhost:8080/"
    },
    "executionInfo": {
     "elapsed": 613,
     "status": "ok",
     "timestamp": 1726462721161,
     "user": {
      "displayName": "NAVNATH DESHMUKH",
      "userId": "07319468676285488010"
     },
     "user_tz": -330
    },
    "id": "BW6-yEPIMmj-",
    "outputId": "efaa9ef5-68cd-4395-bc08-605757a1e66d"
   },
   "outputs": [
    {
     "name": "stdout",
     "output_type": "stream",
     "text": [
      "{1, 2}\n"
     ]
    }
   ],
   "source": [
    "# 5. difference_update(): Removes the items in this set that are also included in another, specified set\n",
    "set1 = {1, 2, 3}\n",
    "set2 = {3, 4, 5}\n",
    "set1.difference_update(set2)\n",
    "print(set1)  # Output: {1, 2}"
   ]
  },
  {
   "cell_type": "code",
   "execution_count": null,
   "metadata": {
    "colab": {
     "base_uri": "https://localhost:8080/"
    },
    "executionInfo": {
     "elapsed": 639,
     "status": "ok",
     "timestamp": 1726462755067,
     "user": {
      "displayName": "NAVNATH DESHMUKH",
      "userId": "07319468676285488010"
     },
     "user_tz": -330
    },
    "id": "VtlPgOhBMuiM",
    "outputId": "cc61aa27-901f-4a73-bb75-cd1c15c74d5c"
   },
   "outputs": [
    {
     "name": "stdout",
     "output_type": "stream",
     "text": [
      "{1, 3}\n"
     ]
    }
   ],
   "source": [
    "# 6. discard(): Removes the specified item\n",
    "my_set.discard(2)\n",
    "print(my_set)  # Output: {1, 3}"
   ]
  },
  {
   "cell_type": "code",
   "execution_count": null,
   "metadata": {
    "colab": {
     "base_uri": "https://localhost:8080/"
    },
    "executionInfo": {
     "elapsed": 611,
     "status": "ok",
     "timestamp": 1726462787867,
     "user": {
      "displayName": "NAVNATH DESHMUKH",
      "userId": "07319468676285488010"
     },
     "user_tz": -330
    },
    "id": "tdpBSfSjM2xc",
    "outputId": "0208ba78-d838-46bb-cc87-f3787830beb4"
   },
   "outputs": [
    {
     "name": "stdout",
     "output_type": "stream",
     "text": [
      "{3}\n"
     ]
    }
   ],
   "source": [
    "# 7. intersection(): Returns a set that is the intersection of two other sets\n",
    "set1 = {1, 2, 3}\n",
    "set2 = {3, 4, 5}\n",
    "intersection_set = set1.intersection(set2)\n",
    "print(intersection_set)  # Output: {3}"
   ]
  },
  {
   "cell_type": "code",
   "execution_count": null,
   "metadata": {
    "colab": {
     "base_uri": "https://localhost:8080/"
    },
    "executionInfo": {
     "elapsed": 614,
     "status": "ok",
     "timestamp": 1726462818062,
     "user": {
      "displayName": "NAVNATH DESHMUKH",
      "userId": "07319468676285488010"
     },
     "user_tz": -330
    },
    "id": "Od8hzCwUM7-z",
    "outputId": "b3454960-10c9-475d-f25d-07d756cd05a4"
   },
   "outputs": [
    {
     "name": "stdout",
     "output_type": "stream",
     "text": [
      "{3}\n"
     ]
    }
   ],
   "source": [
    "# 8. intersection_update(): Removes the items in this set that are not present in other, specified set(s)\n",
    "set1 = {1, 2, 3}\n",
    "set2 = {3, 4, 5}\n",
    "set1.intersection_update(set2)\n",
    "print(set1)  # Output: {3}"
   ]
  },
  {
   "cell_type": "code",
   "execution_count": null,
   "metadata": {
    "colab": {
     "base_uri": "https://localhost:8080/"
    },
    "executionInfo": {
     "elapsed": 617,
     "status": "ok",
     "timestamp": 1726462845802,
     "user": {
      "displayName": "NAVNATH DESHMUKH",
      "userId": "07319468676285488010"
     },
     "user_tz": -330
    },
    "id": "aQfI9dr2ND0W",
    "outputId": "4cdf3d2a-91b4-4087-896f-5b459e75ee49"
   },
   "outputs": [
    {
     "name": "stdout",
     "output_type": "stream",
     "text": [
      "True\n"
     ]
    }
   ],
   "source": [
    "# 9. isdisjoint(): Returns whether two sets have a intersection or not\n",
    "set1 = {1, 2, 3}\n",
    "set2 = {4, 5, 6}\n",
    "print(set1.isdisjoint(set2))  # Output: True"
   ]
  },
  {
   "cell_type": "code",
   "execution_count": null,
   "metadata": {
    "colab": {
     "base_uri": "https://localhost:8080/"
    },
    "executionInfo": {
     "elapsed": 1691,
     "status": "ok",
     "timestamp": 1726469748917,
     "user": {
      "displayName": "NAVNATH DESHMUKH",
      "userId": "07319468676285488010"
     },
     "user_tz": -330
    },
    "id": "ONABopr0nVdR",
    "outputId": "31cedd25-2b85-47a1-d8f9-3ec558de788a"
   },
   "outputs": [
    {
     "name": "stdout",
     "output_type": "stream",
     "text": [
      "True\n"
     ]
    }
   ],
   "source": [
    "\n",
    "# 10. issubset(): Returns whether another set contains this set or not\n",
    "set1 = {1, 2}\n",
    "set2 = {1, 2, 3}\n",
    "print(set1.issubset(set2))  # Output: True"
   ]
  },
  {
   "cell_type": "code",
   "execution_count": null,
   "metadata": {
    "colab": {
     "base_uri": "https://localhost:8080/"
    },
    "executionInfo": {
     "elapsed": 602,
     "status": "ok",
     "timestamp": 1726477109411,
     "user": {
      "displayName": "NAVNATH DESHMUKH",
      "userId": "07319468676285488010"
     },
     "user_tz": -330
    },
    "id": "X49IbGZJnff0",
    "outputId": "1c419d81-9cfa-40ce-dd26-ece931848550"
   },
   "outputs": [
    {
     "name": "stdout",
     "output_type": "stream",
     "text": [
      "True\n"
     ]
    }
   ],
   "source": [
    "# 11. issuperset(): Returns whether this set contains another set or not\n",
    "set1 = {1, 2, 3}\n",
    "set2 = {1, 2}\n",
    "print(set1.issuperset(set2))  # Output: True"
   ]
  },
  {
   "cell_type": "code",
   "execution_count": null,
   "metadata": {
    "colab": {
     "base_uri": "https://localhost:8080/"
    },
    "executionInfo": {
     "elapsed": 608,
     "status": "ok",
     "timestamp": 1726477208440,
     "user": {
      "displayName": "NAVNATH DESHMUKH",
      "userId": "07319468676285488010"
     },
     "user_tz": -330
    },
    "id": "ISU8EIYRDF3S",
    "outputId": "12955945-87bd-49fa-a2ff-7e6c6f957206"
   },
   "outputs": [
    {
     "name": "stdout",
     "output_type": "stream",
     "text": [
      "1\n",
      "{2, 3}\n"
     ]
    }
   ],
   "source": [
    "# 12. pop(): Removes an element from the set\n",
    "removed_element = my_set.pop()\n",
    "print(removed_element)  # Output: 1 (or any random element)\n",
    "print(my_set)  # Output: {3} (or the remaining elements)"
   ]
  },
  {
   "cell_type": "code",
   "execution_count": null,
   "metadata": {
    "colab": {
     "base_uri": "https://localhost:8080/"
    },
    "executionInfo": {
     "elapsed": 526,
     "status": "ok",
     "timestamp": 1726477242227,
     "user": {
      "displayName": "NAVNATH DESHMUKH",
      "userId": "07319468676285488010"
     },
     "user_tz": -330
    },
    "id": "HqarMwVFD7ym",
    "outputId": "e54e6427-fc0a-4ea0-cf26-c1c9d90c06c0"
   },
   "outputs": [
    {
     "name": "stdout",
     "output_type": "stream",
     "text": [
      "{3}\n"
     ]
    }
   ],
   "source": [
    "# 13. remove(): Removes the specified element\n",
    "my_set.remove(2)\n",
    "print(my_set)  # Output: {1, 3}"
   ]
  },
  {
   "cell_type": "code",
   "execution_count": null,
   "metadata": {
    "colab": {
     "base_uri": "https://localhost:8080/"
    },
    "executionInfo": {
     "elapsed": 540,
     "status": "ok",
     "timestamp": 1726477263987,
     "user": {
      "displayName": "NAVNATH DESHMUKH",
      "userId": "07319468676285488010"
     },
     "user_tz": -330
    },
    "id": "lqSSnCR4EDv-",
    "outputId": "f8208c87-e9d3-4881-d78c-8188a4f26283"
   },
   "outputs": [
    {
     "name": "stdout",
     "output_type": "stream",
     "text": [
      "{1, 2, 4, 5}\n"
     ]
    }
   ],
   "source": [
    "# 14. symmetric_difference(): Returns a set with the symmetric differences of two sets\n",
    "set1 = {1, 2, 3}\n",
    "set2 = {3, 4, 5}\n",
    "sym_diff_set = set1.symmetric_difference(set2)\n",
    "print(sym_diff_set)  # Output: {1, 2, 4, 5}"
   ]
  },
  {
   "cell_type": "code",
   "execution_count": null,
   "metadata": {
    "colab": {
     "base_uri": "https://localhost:8080/"
    },
    "executionInfo": {
     "elapsed": 516,
     "status": "ok",
     "timestamp": 1726477302694,
     "user": {
      "displayName": "NAVNATH DESHMUKH",
      "userId": "07319468676285488010"
     },
     "user_tz": -330
    },
    "id": "P2-XAlTvENMb",
    "outputId": "64aa9b74-19b1-411d-f92e-0243f5cee23d"
   },
   "outputs": [
    {
     "name": "stdout",
     "output_type": "stream",
     "text": [
      "{1, 2, 4, 5}\n"
     ]
    }
   ],
   "source": [
    "# 15. symmetric_difference_update(): inserts the symmetric differences from this set and another\n",
    "set1 = {1, 2, 3}\n",
    "set2 = {3, 4, 5}\n",
    "set1.symmetric_difference_update(set2)\n",
    "print(set1)  # Output: {1, 2, 4, 5}"
   ]
  },
  {
   "cell_type": "code",
   "execution_count": null,
   "metadata": {
    "colab": {
     "base_uri": "https://localhost:8080/"
    },
    "executionInfo": {
     "elapsed": 520,
     "status": "ok",
     "timestamp": 1726477321905,
     "user": {
      "displayName": "NAVNATH DESHMUKH",
      "userId": "07319468676285488010"
     },
     "user_tz": -330
    },
    "id": "cfqrJ9xuESIp",
    "outputId": "297b54c4-ab03-494f-b1dd-3a330fe1d6cc"
   },
   "outputs": [
    {
     "name": "stdout",
     "output_type": "stream",
     "text": [
      "{1, 2, 3, 6}\n"
     ]
    }
   ],
   "source": [
    "# 16. union(): Return a set containing the union of sets\n",
    "set1 = {1, 2, 3}\n",
    "set2 = {3,2,6}\n",
    "union_set = set1.union(set2)\n",
    "print(union_set)  # Output: {1, 2, 3, 4, 5, 6}"
   ]
  },
  {
   "cell_type": "code",
   "execution_count": null,
   "metadata": {
    "colab": {
     "base_uri": "https://localhost:8080/"
    },
    "executionInfo": {
     "elapsed": 575,
     "status": "ok",
     "timestamp": 1726477341925,
     "user": {
      "displayName": "NAVNATH DESHMUKH",
      "userId": "07319468676285488010"
     },
     "user_tz": -330
    },
    "id": "bJFzBLRZKWnk",
    "outputId": "aa01f5b5-9673-466b-d4cd-47de2dd0d5f1"
   },
   "outputs": [
    {
     "name": "stdout",
     "output_type": "stream",
     "text": [
      "{1, 2, 3, 4, 5}\n"
     ]
    }
   ],
   "source": [
    "# 17. update(): Update the set with the union of this set and others\n",
    "set1  = {1, 2, 3}\n",
    "set2 = {3, 4, 5}\n",
    "set1.update(set2)\n",
    "print(set1)  # Output: {1, 2, 3, 4, 5}"
   ]
  },
  {
   "cell_type": "markdown",
   "metadata": {
    "id": "HjrZ4UTQLhPg"
   },
   "source": [
    "**Dictionary :**\n",
    "Dictionaries are used to store data values in key:value pairs.\n",
    "\n",
    "A dictionary is a collection which is ordered*, changeable and do not allow duplicate"
   ]
  },
  {
   "cell_type": "code",
   "execution_count": null,
   "metadata": {
    "id": "AfhO0wkdMr46"
   },
   "outputs": [],
   "source": [
    "my_dict = {\"name\": \"Priya\", \"age\": 25, \"city\": \"New York\"}"
   ]
  },
  {
   "cell_type": "code",
   "execution_count": null,
   "metadata": {
    "colab": {
     "base_uri": "https://localhost:8080/"
    },
    "executionInfo": {
     "elapsed": 535,
     "status": "ok",
     "timestamp": 1726477467588,
     "user": {
      "displayName": "NAVNATH DESHMUKH",
      "userId": "07319468676285488010"
     },
     "user_tz": -330
    },
    "id": "KZV0mc3oEoG4",
    "outputId": "30f2b635-c3f0-47fe-e553-d4ba485f74dd"
   },
   "outputs": [
    {
     "name": "stdout",
     "output_type": "stream",
     "text": [
      "{}\n"
     ]
    }
   ],
   "source": [
    "# 1. clear(): Removes all items from the dictionary\n",
    "my_dict.clear()\n",
    "print(my_dict)  # Output: {}"
   ]
  },
  {
   "cell_type": "code",
   "execution_count": null,
   "metadata": {
    "colab": {
     "base_uri": "https://localhost:8080/"
    },
    "executionInfo": {
     "elapsed": 673,
     "status": "ok",
     "timestamp": 1726478131800,
     "user": {
      "displayName": "NAVNATH DESHMUKH",
      "userId": "07319468676285488010"
     },
     "user_tz": -330
    },
    "id": "FlMtfQrYHYxV",
    "outputId": "f30445c4-63b9-4000-b78a-88a16724e643"
   },
   "outputs": [
    {
     "name": "stdout",
     "output_type": "stream",
     "text": [
      "{'name': 'Priya', 'age': 25, 'city': 'New York'}\n"
     ]
    }
   ],
   "source": [
    "# 2. copy(): Returns a shallow copy of the dictionary\n",
    "new_dict = my_dict.copy()\n",
    "print(new_dict)"
   ]
  },
  {
   "cell_type": "code",
   "execution_count": null,
   "metadata": {
    "colab": {
     "base_uri": "https://localhost:8080/"
    },
    "executionInfo": {
     "elapsed": 648,
     "status": "ok",
     "timestamp": 1726478160659,
     "user": {
      "displayName": "NAVNATH DESHMUKH",
      "userId": "07319468676285488010"
     },
     "user_tz": -330
    },
    "id": "Us7oU5mSHcLR",
    "outputId": "9d07b216-0121-411b-ca52-6baa9dc0eb10"
   },
   "outputs": [
    {
     "name": "stdout",
     "output_type": "stream",
     "text": [
      "{'name': 'Unknown', 'age': 'Unknown', 'city': 'Unknown'}\n"
     ]
    }
   ],
   "source": [
    "# 3. fromkeys(): Returns a dictionary with the specified keys and values\n",
    "keys = [\"name\", \"age\", \"city\"]\n",
    "value = \"Unknown\"\n",
    "new_dict = dict.fromkeys(keys, value)\n",
    "print(new_dict)  # Output: {'name': 'Unknown', 'age': 'Unknown', 'city': 'Unknown'}"
   ]
  },
  {
   "cell_type": "code",
   "execution_count": null,
   "metadata": {
    "id": "vHthJGOrHk6G"
   },
   "outputs": [],
   "source": [
    "# 4. get(): Returns the value of the specified key\n",
    "name = my_dict.get(\"name\")\n",
    "print(name)  # Output: Priya"
   ]
  },
  {
   "cell_type": "code",
   "execution_count": null,
   "metadata": {
    "colab": {
     "base_uri": "https://localhost:8080/"
    },
    "executionInfo": {
     "elapsed": 538,
     "status": "ok",
     "timestamp": 1726478426249,
     "user": {
      "displayName": "NAVNATH DESHMUKH",
      "userId": "07319468676285488010"
     },
     "user_tz": -330
    },
    "id": "3rGY5SXKIbO1",
    "outputId": "2ee11bdb-b38c-4769-f528-ce7d8e04f574"
   },
   "outputs": [
    {
     "name": "stdout",
     "output_type": "stream",
     "text": [
      "dict_items([('name', 'Priya'), ('age', 25), ('city', 'New York')])\n"
     ]
    }
   ],
   "source": [
    "# 5. items(): Returns a list containing a tuple for each key-value pair\n",
    "items = my_dict.items()\n",
    "print(items)  # Output: dict_items([('name', 'Priya'), ('age', 25), ('city', 'New York')]"
   ]
  },
  {
   "cell_type": "code",
   "execution_count": null,
   "metadata": {
    "colab": {
     "base_uri": "https://localhost:8080/"
    },
    "executionInfo": {
     "elapsed": 528,
     "status": "ok",
     "timestamp": 1726478451316,
     "user": {
      "displayName": "NAVNATH DESHMUKH",
      "userId": "07319468676285488010"
     },
     "user_tz": -330
    },
    "id": "HJ9HUP5PIkPM",
    "outputId": "9465c824-f2b6-4f55-86d1-a04f8616a6f6"
   },
   "outputs": [
    {
     "name": "stdout",
     "output_type": "stream",
     "text": [
      "dict_keys(['name', 'age', 'city'])\n"
     ]
    }
   ],
   "source": [
    "# 6. keys(): Returns a list containing the dictionary's keys\n",
    "keys = my_dict.keys()\n",
    "print(keys)  # Output: dict_keys(['name', 'age', 'city'])"
   ]
  },
  {
   "cell_type": "code",
   "execution_count": null,
   "metadata": {
    "colab": {
     "base_uri": "https://localhost:8080/"
    },
    "executionInfo": {
     "elapsed": 688,
     "status": "ok",
     "timestamp": 1726478478743,
     "user": {
      "displayName": "NAVNATH DESHMUKH",
      "userId": "07319468676285488010"
     },
     "user_tz": -330
    },
    "id": "W35JJTfhIr7-",
    "outputId": "42caebc1-0a48-4f43-a7a5-0ade4b6b5492"
   },
   "outputs": [
    {
     "name": "stdout",
     "output_type": "stream",
     "text": [
      "New York\n",
      "{'name': 'Priya', 'age': 25}\n"
     ]
    }
   ],
   "source": [
    "# 7. pop(): Removes the element with the specified key\n",
    "city = my_dict.pop(\"city\")\n",
    "print(city)  # Output: New York\n",
    "print(my_dict)  # Output: {'name': 'Priya', 'age': 25}"
   ]
  },
  {
   "cell_type": "markdown",
   "metadata": {
    "id": "wq9WaAx6I6F8"
   },
   "source": []
  },
  {
   "cell_type": "code",
   "execution_count": null,
   "metadata": {
    "colab": {
     "base_uri": "https://localhost:8080/"
    },
    "executionInfo": {
     "elapsed": 489,
     "status": "ok",
     "timestamp": 1728130356191,
     "user": {
      "displayName": "NAVNATH DESHMUKH",
      "userId": "07319468676285488010"
     },
     "user_tz": -330
    },
    "id": "2_DT7KwlLlTM",
    "outputId": "c385dd04-0bb8-4cf5-f7dc-05e958457332"
   },
   "outputs": [
    {
     "name": "stdout",
     "output_type": "stream",
     "text": [
      "Boolean True: True\n",
      "Boolean False: False\n",
      "Bytes: b'Hello'\n",
      "Bytearray: bytearray(b'Hello')\n",
      "Memoryview: [72, 101, 108, 108, 111]\n",
      "NoneType example: None\n",
      "\n",
      "Type checks:\n",
      "Type of bool_true: <class 'bool'>\n",
      "Type of bytes_example: <class 'bytes'>\n",
      "Type of bytearray_example: <class 'bytearray'>\n",
      "Type of memoryview_example: <class 'memoryview'>\n",
      "Type of none_example: <class 'NoneType'>\n"
     ]
    }
   ],
   "source": [
    "# Boolean Type\n",
    "bool_true = True\n",
    "bool_false = False\n",
    "print(\"Boolean True:\", bool_true)\n",
    "print(\"Boolean False:\", bool_false)\n",
    "\n",
    "# Binary Types: bytes, bytearray, memoryview\n",
    "# Bytes example\n",
    "bytes_example = b\"Hello\"\n",
    "print(\"Bytes:\", bytes_example)\n",
    "\n",
    "# Bytearray example (mutable)\n",
    "bytearray_example = bytearray(b\"Hello\")\n",
    "bytearray_example[0] = 72  # Modifying the first element\n",
    "print(\"Bytearray:\", bytearray_example)\n",
    "\n",
    "# Memoryview example (viewing the bytearray)\n",
    "memoryview_example = memoryview(bytearray_example)\n",
    "print(\"Memoryview:\", memoryview_example.tolist())  # Converting to list for readability\n",
    "\n",
    "# None Type\n",
    "none_example = None\n",
    "print(\"NoneType example:\", none_example)\n",
    "\n",
    "# Check types\n",
    "print(\"\\nType checks:\")\n",
    "print(\"Type of bool_true:\", type(bool_true))\n",
    "print(\"Type of bytes_example:\", type(bytes_example))\n",
    "print(\"Type of bytearray_example:\", type(bytearray_example))\n",
    "print(\"Type of memoryview_example:\", type(memoryview_example))\n",
    "print(\"Type of none_example:\", type(none_example))"
   ]
  },
  {
   "cell_type": "markdown",
   "metadata": {
    "id": "OpQRpANJmOfI"
   },
   "source": [
    "# Conditions statements"
   ]
  },
  {
   "cell_type": "code",
   "execution_count": null,
   "metadata": {
    "colab": {
     "base_uri": "https://localhost:8080/"
    },
    "executionInfo": {
     "elapsed": 467,
     "status": "ok",
     "timestamp": 1728130608272,
     "user": {
      "displayName": "NAVNATH DESHMUKH",
      "userId": "07319468676285488010"
     },
     "user_tz": -330
    },
    "id": "5eduxP2KmPA_",
    "outputId": "aa873d21-c35b-4faf-8410-5d4816f1b770"
   },
   "outputs": [
    {
     "name": "stdout",
     "output_type": "stream",
     "text": [
      "45\n"
     ]
    }
   ],
   "source": [
    "a =45\n",
    "x=a\n",
    "if(a == x):\n",
    " print(a)\n",
    "else:\n",
    " print(a)"
   ]
  },
  {
   "cell_type": "code",
   "execution_count": null,
   "metadata": {
    "colab": {
     "base_uri": "https://localhost:8080/"
    },
    "executionInfo": {
     "elapsed": 4643,
     "status": "ok",
     "timestamp": 1728131234073,
     "user": {
      "displayName": "NAVNATH DESHMUKH",
      "userId": "07319468676285488010"
     },
     "user_tz": -330
    },
    "id": "XXgU5cianKhy",
    "outputId": "e73b47e1-9235-4af5-dba3-215505d3ac06"
   },
   "outputs": [
    {
     "name": "stdout",
     "output_type": "stream",
     "text": [
      "Enter The Age Your :45\n",
      "Your Are Old\n"
     ]
    }
   ],
   "source": [
    "a=int(input(\"Enter The Age Your :\"))\n",
    "if(a < 15):\n",
    "  print(\"Your Are Kids\")\n",
    "elif(a< 30):\n",
    "  print(\"Your Are young\")\n",
    "else:\n",
    "  print(\"Your Are Old\")\n",
    "\n"
   ]
  },
  {
   "cell_type": "code",
   "execution_count": null,
   "metadata": {
    "colab": {
     "base_uri": "https://localhost:8080/"
    },
    "executionInfo": {
     "elapsed": 413,
     "status": "ok",
     "timestamp": 1728131322088,
     "user": {
      "displayName": "NAVNATH DESHMUKH",
      "userId": "07319468676285488010"
     },
     "user_tz": -330
    },
    "id": "vJBhDEdUpz_B",
    "outputId": "729c99a9-2dc8-40d3-cd5d-790ee181cd69"
   },
   "outputs": [
    {
     "name": "stdout",
     "output_type": "stream",
     "text": [
      "B\n"
     ]
    }
   ],
   "source": [
    "# Short Hand If ... Else\n",
    "print(\"A\") if a > b else print(\"B\")"
   ]
  },
  {
   "cell_type": "markdown",
   "metadata": {
    "id": "tliDpN22qNiS"
   },
   "source": [
    "Nested if-elif-else"
   ]
  },
  {
   "cell_type": "code",
   "execution_count": null,
   "metadata": {
    "colab": {
     "base_uri": "https://localhost:8080/"
    },
    "executionInfo": {
     "elapsed": 465,
     "status": "ok",
     "timestamp": 1728131447487,
     "user": {
      "displayName": "NAVNATH DESHMUKH",
      "userId": "07319468676285488010"
     },
     "user_tz": -330
    },
    "id": "FDxOKMtqqNzs",
    "outputId": "f1dacac1-b206-4d2e-861e-ca5fa83e4ffc"
   },
   "outputs": [
    {
     "name": "stdout",
     "output_type": "stream",
     "text": [
      "It's a warm day.\n"
     ]
    }
   ],
   "source": [
    "temperature = 30\n",
    "\n",
    "if temperature > 0:\n",
    "    if temperature > 30:\n",
    "        print(\"It's a hot day.\")\n",
    "    elif temperature > 20:\n",
    "        print(\"It's a warm day.\")\n",
    "    else:\n",
    "        print(\"It's a cool day.\")\n",
    "else:\n",
    "    print(\"It's a cold day.\")\n"
   ]
  },
  {
   "cell_type": "markdown",
   "metadata": {
    "id": "5EXhgLAcqV2S"
   },
   "source": [
    "# Loop"
   ]
  },
  {
   "cell_type": "code",
   "execution_count": null,
   "metadata": {
    "colab": {
     "base_uri": "https://localhost:8080/"
    },
    "executionInfo": {
     "elapsed": 483,
     "status": "ok",
     "timestamp": 1728131521117,
     "user": {
      "displayName": "NAVNATH DESHMUKH",
      "userId": "07319468676285488010"
     },
     "user_tz": -330
    },
    "id": "YwjZrMtqqWIi",
    "outputId": "471c0c2e-ed01-4e9d-d143-5bb2be063099"
   },
   "outputs": [
    {
     "name": "stdout",
     "output_type": "stream",
     "text": [
      "1\n",
      "2\n",
      "3\n",
      "4\n"
     ]
    }
   ],
   "source": [
    "for i in range(1,5):\n",
    " print(i)"
   ]
  },
  {
   "cell_type": "code",
   "execution_count": null,
   "metadata": {
    "colab": {
     "base_uri": "https://localhost:8080/"
    },
    "executionInfo": {
     "elapsed": 567,
     "status": "ok",
     "timestamp": 1728132027825,
     "user": {
      "displayName": "NAVNATH DESHMUKH",
      "userId": "07319468676285488010"
     },
     "user_tz": -330
    },
    "id": "JuHLwGABsT30",
    "outputId": "0889cff1-dced-4280-e39c-98e2ded93c77"
   },
   "outputs": [
    {
     "name": "stdout",
     "output_type": "stream",
     "text": [
      "* 1\n",
      "* 2\n",
      "* 3\n",
      "* 4\n",
      "* 5\n",
      "* 6\n"
     ]
    }
   ],
   "source": [
    "n=7\n",
    "for i in range(1,n):\n",
    " print(\"*\",i)"
   ]
  },
  {
   "cell_type": "code",
   "execution_count": null,
   "metadata": {
    "colab": {
     "base_uri": "https://localhost:8080/"
    },
    "executionInfo": {
     "elapsed": 439,
     "status": "ok",
     "timestamp": 1728131967518,
     "user": {
      "displayName": "NAVNATH DESHMUKH",
      "userId": "07319468676285488010"
     },
     "user_tz": -330
    },
    "id": "5VLbCHRSq4bg",
    "outputId": "96a1101f-42a6-4224-e7dc-4dd216766260"
   },
   "outputs": [
    {
     "name": "stdout",
     "output_type": "stream",
     "text": [
      "* \n",
      "* * \n",
      "* * * \n",
      "* * * * \n",
      "* * * * * \n"
     ]
    }
   ],
   "source": [
    "n =5\n",
    "for i in range(1,n+1):\n",
    " print(\"* \"*i)\n"
   ]
  },
  {
   "cell_type": "markdown",
   "metadata": {
    "id": "WV9rfaIk7rvl"
   },
   "source": [
    "# Function :\n",
    "- a function is a block of reusable code that performs a specific task."
   ]
  },
  {
   "cell_type": "code",
   "execution_count": null,
   "metadata": {
    "colab": {
     "base_uri": "https://localhost:8080/"
    },
    "executionInfo": {
     "elapsed": 494,
     "status": "ok",
     "timestamp": 1735467755882,
     "user": {
      "displayName": "NAVNATH DESHMUKH",
      "userId": "07319468676285488010"
     },
     "user_tz": -330
    },
    "id": "E5TZsUNLs3y-",
    "outputId": "b1e89183-7bec-4ecb-b19f-f9c87f0fb21f"
   },
   "outputs": [
    {
     "name": "stdout",
     "output_type": "stream",
     "text": [
      "Hello World\n"
     ]
    }
   ],
   "source": [
    "def fun():\n",
    "  pass\n",
    "  print(\"Hello Function\")\n",
    "\n",
    "fun()"
   ]
  },
  {
   "cell_type": "markdown",
   "metadata": {
    "id": "76dXTtMf8ewm"
   },
   "source": [
    "**Types of Functions in Python**\n",
    "\n",
    "**1. Built-in Functions**\n",
    "\n",
    "Python provides many built-in functions that are readily available for use without any need for definition.\n",
    "\n",
    "Examples:\n",
    "\n",
    "print() - Prints output.\n",
    "\n",
    "len() - Returns the length of an object.\n",
    "\n",
    "type() - Returns the type of an object.\n",
    "\n",
    "max() - Returns the largest item.\n",
    "\n",
    "sum() - Returns the sum of a sequence.\n"
   ]
  },
  {
   "cell_type": "code",
   "execution_count": null,
   "metadata": {
    "id": "mGXvIpBZ8fdN"
   },
   "outputs": [],
   "source": [
    "def function_name(parameters):\n",
    "    # Function body\n",
    "    return value\n"
   ]
  },
  {
   "cell_type": "markdown",
   "metadata": {
    "id": "fDQ4LVv89HRf"
   },
   "source": [
    "**2. User-Defined Functions**\n",
    "\n",
    "These are functions that programmers define themselves using the def keyword."
   ]
  },
  {
   "cell_type": "code",
   "execution_count": null,
   "metadata": {
    "colab": {
     "base_uri": "https://localhost:8080/"
    },
    "executionInfo": {
     "elapsed": 645,
     "status": "ok",
     "timestamp": 1735468049230,
     "user": {
      "displayName": "NAVNATH DESHMUKH",
      "userId": "07319468676285488010"
     },
     "user_tz": -330
    },
    "id": "EF7uim9I88sm",
    "outputId": "644515c5-f2bd-4a10-b7aa-36331ff0d4ff"
   },
   "outputs": [
    {
     "name": "stdout",
     "output_type": "stream",
     "text": [
      "Function User Defined\n"
     ]
    }
   ],
   "source": [
    "def function():\n",
    "  print(\"Function User Defined\")\n",
    "\n",
    "function()"
   ]
  },
  {
   "cell_type": "markdown",
   "metadata": {
    "id": "LNHl6hJF9SM1"
   },
   "source": [
    "**3. Lambda Function :**\n",
    "These are single-expression functions defined using the lambda keyword. They are useful for short, throwaway functions."
   ]
  },
  {
   "cell_type": "code",
   "execution_count": null,
   "metadata": {
    "colab": {
     "base_uri": "https://localhost:8080/"
    },
    "executionInfo": {
     "elapsed": 8,
     "status": "ok",
     "timestamp": 1735468157662,
     "user": {
      "displayName": "NAVNATH DESHMUKH",
      "userId": "07319468676285488010"
     },
     "user_tz": -330
    },
    "id": "09QMq3l39JFB",
    "outputId": "c865102c-69d4-468e-c092-9205afed132e"
   },
   "outputs": [
    {
     "name": "stdout",
     "output_type": "stream",
     "text": [
      "12\n"
     ]
    }
   ],
   "source": [
    "x = lambda a,b : a*b\n",
    "print(x(3,4))"
   ]
  },
  {
   "cell_type": "markdown",
   "metadata": {
    "id": "9LWuWFui_B_X"
   },
   "source": [
    "# **Array :**\n",
    "A collection of element of same data  types."
   ]
  },
  {
   "cell_type": "code",
   "execution_count": null,
   "metadata": {
    "colab": {
     "base_uri": "https://localhost:8080/"
    },
    "executionInfo": {
     "elapsed": 464,
     "status": "ok",
     "timestamp": 1735468776536,
     "user": {
      "displayName": "NAVNATH DESHMUKH",
      "userId": "07319468676285488010"
     },
     "user_tz": -330
    },
    "id": "alKO9L5F_Bfl",
    "outputId": "51a4398f-8e63-4a77-cb2b-cfe15006c0ec"
   },
   "outputs": [
    {
     "name": "stdout",
     "output_type": "stream",
     "text": [
      "[1, 2, 3, 4, 5]\n"
     ]
    }
   ],
   "source": [
    "array=[1,2,3,4,5]\n",
    "print(array)"
   ]
  },
  {
   "cell_type": "code",
   "execution_count": null,
   "metadata": {
    "colab": {
     "base_uri": "https://localhost:8080/"
    },
    "executionInfo": {
     "elapsed": 460,
     "status": "ok",
     "timestamp": 1735469412574,
     "user": {
      "displayName": "NAVNATH DESHMUKH",
      "userId": "07319468676285488010"
     },
     "user_tz": -330
    },
    "id": "EWoraaegAwgX",
    "outputId": "202cdfc2-7e76-4350-cdbf-47c59f6e9f4f"
   },
   "outputs": [
    {
     "name": "stdout",
     "output_type": "stream",
     "text": [
      "append() - Adds an element at the end: [1, 2, 3, 4]\n",
      "extend() - Adds multiple elements at the end: [1, 2, 3, 4, 5, 6]\n",
      "insert() - Inserts an element at a specific position: [1, 2, 'a', 3, 4, 5, 6]\n",
      "remove() - Removes the first occurrence of an element: [1, 2, 3, 4, 5, 6]\n",
      "pop() - Removes and returns the last element: 6\n",
      "List after pop: [1, 2, 3, 4, 5]\n",
      "clear() - Removes all elements from the list: []\n",
      "index() - Returns the index of an element: 2\n",
      "count() - Returns the number of occurrences of an element: 1\n",
      "sort() - Sorts the list in ascending order: [1, 2, 3, 4]\n",
      "reverse() - Reverses the list: [4, 3, 2, 1]\n",
      "copy() - Creates a shallow copy of the list: [4, 3, 2, 1]\n",
      "\n",
      "Demonstrating all methods together:\n",
      "Original List: [10, 20, 30]\n",
      "\n",
      "After performing all operations:\n",
      "List after append, extend, insert, remove, pop, and clear: [1, 2, 3, 4, 5]\n",
      "Index of element 4: 3\n",
      "Count of element 2: 1\n",
      "Sorted List: [1, 2, 3, 4, 5]\n",
      "Reversed List: [5, 4, 3, 2, 1]\n",
      "Copy of List: [5, 4, 3, 2, 1]\n"
     ]
    }
   ],
   "source": [
    "\n",
    "# Python List Methods Demonstration\n",
    "\n",
    "# 1. append()\n",
    "my_list = [1, 2, 3]\n",
    "my_list.append(4)\n",
    "print(\"append() - Adds an element at the end:\", my_list)\n",
    "\n",
    "# 2. extend()\n",
    "my_list.extend([5, 6])\n",
    "print(\"extend() - Adds multiple elements at the end:\", my_list)\n",
    "\n",
    "# 3. insert()\n",
    "my_list.insert(2, 'a')\n",
    "print(\"insert() - Inserts an element at a specific position:\", my_list)\n",
    "\n",
    "# 4. remove()\n",
    "my_list.remove('a')\n",
    "print(\"remove() - Removes the first occurrence of an element:\", my_list)\n",
    "\n",
    "# 5. pop()\n",
    "removed_item = my_list.pop()\n",
    "print(\"pop() - Removes and returns the last element:\", removed_item)\n",
    "print(\"List after pop:\", my_list)\n",
    "\n",
    "# 6. clear()\n",
    "my_list.clear()\n",
    "print(\"clear() - Removes all elements from the list:\", my_list)\n",
    "\n",
    "# 7. index()\n",
    "my_list = [1, 2, 3, 4]\n",
    "index = my_list.index(3)\n",
    "print(\"index() - Returns the index of an element:\", index)\n",
    "\n",
    "# 8. count()\n",
    "count = my_list.count(2)\n",
    "print(\"count() - Returns the number of occurrences of an element:\", count)\n",
    "\n",
    "# 9. sort()\n",
    "my_list = [3, 1, 2, 4]\n",
    "my_list.sort()\n",
    "print(\"sort() - Sorts the list in ascending order:\", my_list)\n",
    "\n",
    "# 10. reverse()\n",
    "my_list.reverse()\n",
    "print(\"reverse() - Reverses the list:\", my_list)\n",
    "\n",
    "# 11. copy()\n",
    "copy_list = my_list.copy()\n",
    "print(\"copy() - Creates a shallow copy of the list:\", copy_list)\n",
    "\n",
    "# Demonstrating the entire process\n",
    "print(\"\\nDemonstrating all methods together:\")\n",
    "my_list = [10, 20, 30]\n",
    "print(\"Original List:\", my_list)\n",
    "\n",
    "my_list.append(40)\n",
    "my_list.extend([50, 60])\n",
    "my_list.insert(2, 25)\n",
    "my_list.remove(30)\n",
    "popped_item = my_list.pop()\n",
    "my_list.clear()\n",
    "my_list = [1, 2, 3, 4, 5]\n",
    "\n",
    "print(\"\\nAfter performing all operations:\")\n",
    "print(\"List after append, extend, insert, remove, pop, and clear:\", my_list)\n",
    "print(\"Index of element 4:\", my_list.index(4))\n",
    "print(\"Count of element 2:\", my_list.count(2))\n",
    "my_list.sort()\n",
    "print(\"Sorted List:\", my_list)\n",
    "my_list.reverse()\n",
    "print(\"Reversed List:\", my_list)\n",
    "copy_list = my_list.copy()\n",
    "print(\"Copy of List:\", copy_list)\n",
    "\n"
   ]
  },
  {
   "cell_type": "markdown",
   "metadata": {
    "id": "oAawleAi_A3G"
   },
   "source": [
    "                                 Problem Solving"
   ]
  },
  {
   "cell_type": "markdown",
   "metadata": {
    "id": "LcH2M6pT-gnJ"
   },
   "source": [
    "## **Assignment 01**"
   ]
  },
  {
   "cell_type": "markdown",
   "metadata": {
    "id": "1SaLRKE5-hSR"
   },
   "source": [
    "comprehensive list of 100 programming questions focused on the topics: **functions**, **conditional statements**, **loops**, **lists**, **tuples**, **sets**, **dictionaries**, **strings**, and **operators**.\n",
    "\n",
    "---\n",
    "\n",
    "### **Functions**\n",
    "1. Write a function to calculate the factorial of a number.\n",
    "2. Create a function that checks if a number is prime.\n",
    "3. Write a function to generate the Fibonacci sequence up to `n` terms.\n",
    "4. Create a function that finds the greatest common divisor (GCD) of two numbers.\n",
    "5. Write a function to calculate the power of a number without using `**` or `pow()`.\n",
    "6. Write a function to check if a string is a palindrome.\n",
    "7. Create a function that takes a list and returns the sum of all its elements.\n",
    "8. Write a function to count vowels and consonants in a string.\n",
    "9. Create a function that reverses a string.\n",
    "10. Write a function to find the maximum and minimum in a list of numbers.\n",
    "\n",
    "---\n",
    "\n",
    "### **Conditional Statements**\n",
    "11. Write a program to check if a number is positive, negative, or zero.\n",
    "12. Create a program to find the largest of three numbers.\n",
    "13. Write a program to check if a year is a leap year.\n",
    "14. Create a program to determine if a character is a vowel or consonant.\n",
    "15. Write a program to check if a string contains only uppercase letters.\n",
    "16. Create a program to check if a number is even or odd.\n",
    "17. Write a program to categorize a grade based on marks.\n",
    "18. Create a program to check if a number is divisible by both 3 and 5.\n",
    "19. Write a program to determine if a triangle is valid based on its sides.\n",
    "20. Create a program to check if a character is a digit, letter, or special character.\n",
    "\n",
    "---\n",
    "\n",
    "### **Loops**\n",
    "21. Write a program to print all even numbers between 1 and 100.\n",
    "22. Create a program to find the sum of the first `n` natural numbers.\n",
    "23. Write a program to print the multiplication table of a given number.\n",
    "24. Create a program to count the number of digits in a number.\n",
    "25. Write a program to find the sum of digits in a number.\n",
    "26. Create a program to check if a number is an Armstrong number.\n",
    "27. Write a program to print a pyramid pattern using `*`.\n",
    "28. Create a program to print all prime numbers between two numbers.\n",
    "29. Write a program to calculate the factorial of a number using a loop.\n",
    "30. Create a program to reverse a number using a loop.\n",
    "\n",
    "---\n",
    "\n",
    "### **Lists**\n",
    "31. Write a program to find the second largest number in a list.\n",
    "32. Create a program to remove duplicates from a list.\n",
    "33. Write a program to find the intersection of two lists.\n",
    "34. Create a program to find the union of two lists.\n",
    "35. Write a program to find the common elements in two lists.\n",
    "36. Create a program to find the difference between two lists.\n",
    "37. Write a program to count the occurrences of an element in a list.\n",
    "38. Create a program to sort a list in ascending and descending order.\n",
    "39. Write a program to merge two sorted lists.\n",
    "40. Create a program to find the largest and smallest elements in a list.\n",
    "\n",
    "---\n",
    "\n",
    "### **Tuples**\n",
    "41. Write a program to create a tuple from user input.\n",
    "42. Create a program to check if an element exists in a tuple.\n",
    "43. Write a program to convert a list to a tuple and vice versa.\n",
    "44. Create a program to find the index of an element in a tuple.\n",
    "45. Write a program to count occurrences of an element in a tuple.\n",
    "46. Create a program to find the length of a tuple.\n",
    "47. Write a program to slice a tuple into smaller parts.\n",
    "48. Create a program to reverse a tuple.\n",
    "49. Write a program to unpack elements of a tuple into variables.\n",
    "50. Create a program to find the maximum and minimum in a tuple.\n",
    "\n",
    "---\n",
    "\n",
    "### **Sets**\n",
    "51. Write a program to find the union of two sets.\n",
    "52. Create a program to find the intersection of two sets.\n",
    "53. Write a program to find the difference between two sets.\n",
    "54. Create a program to check if a set is a subset of another set.\n",
    "55. Write a program to remove an element from a set.\n",
    "56. Create a program to add an element to a set.\n",
    "57. Write a program to check if two sets are disjoint.\n",
    "58. Create a program to find the symmetric difference between two sets.\n",
    "59. Write a program to find the size of a set.\n",
    "60. Create a program to clear all elements in a set.\n",
    "\n",
    "---\n",
    "\n",
    "### **Dictionaries**\n",
    "61. Write a program to create a dictionary from user input.\n",
    "62. Create a program to add a key-value pair to a dictionary.\n",
    "63. Write a program to delete a key-value pair from a dictionary.\n",
    "64. Create a program to check if a key exists in a dictionary.\n",
    "65. Write a program to find the value associated with a given key.\n",
    "66. Create a program to merge two dictionaries.\n",
    "67. Write a program to iterate over keys and values in a dictionary.\n",
    "68. Create a program to find the maximum and minimum values in a dictionary.\n",
    "69. Write a program to sort a dictionary by keys.\n",
    "70. Create a program to sort a dictionary by values.\n",
    "\n",
    "---\n",
    "\n",
    "### **Strings**\n",
    "71. Write a program to count the occurrences of each character in a string.\n",
    "72. Create a program to reverse a string.\n",
    "73. Write a program to check if two strings are anagrams.\n",
    "74. Create a program to find the longest word in a string.\n",
    "75. Write a program to count the number of words in a string.\n",
    "76. Create a program to find all substrings of a string.\n",
    "77. Write a program to remove vowels from a string.\n",
    "78. Create a program to replace all spaces with underscores in a string.\n",
    "79. Write a program to check if a string starts and ends with the same character.\n",
    "80. Create a program to capitalize the first letter of each word in a string.\n",
    "\n",
    "---\n",
    "\n",
    "### **Operators**\n",
    "81. Write a program to check if two numbers are equal using comparison operators.\n",
    "82. Create a program to swap two variables using arithmetic operators.\n",
    "83. Write a program to demonstrate the use of logical operators.\n",
    "84. Create a program to calculate the area of a circle using arithmetic operators.\n",
    "85. Write a program to check if a number is in a range using comparison operators.\n",
    "86. Create a program to find the maximum of three numbers using conditional operators.\n",
    "87. Write a program to demonstrate the use of bitwise operators.\n",
    "88. Create a program to calculate the cube of a number using the `**` operator.\n",
    "89. Write a program to check if a number is divisible by another using the modulus operator.\n",
    "90. Create a program to use the ternary operator for conditional output.\n",
    "\n",
    "---\n",
    "\n",
    "### **Miscellaneous Combination**\n",
    "91. Write a program to find the frequency of each word in a sentence.\n",
    "92. Create a program to generate a dictionary of squares for numbers 1 to `n`.\n",
    "93. Write a program to convert a string into a list of words.\n",
    "94. Create a program to calculate the sum of values in a dictionary.\n",
    "95. Write a program to find common elements between a list, set, and tuple.\n",
    "96. Create a program to filter even numbers from a list using a lambda function.\n",
    "97. Write a program to merge two lists into a dictionary where one list contains keys and the other values.\n",
    "98. Create a program to find the sum of unique numbers in a list using a set.\n",
    "99. Write a program to count the occurrences of each element in a list and store the result in a dictionary.\n",
    "100. Create a program to reverse the keys and values in a dictionary.\n"
   ]
  },
  {
   "cell_type": "markdown",
   "metadata": {
    "id": "rO3GY8sSY1oo"
   },
   "source": [
    "To check number is even or odd\n"
   ]
  },
  {
   "cell_type": "markdown",
   "metadata": {
    "id": "rrreLz1X65rw"
   },
   "source": []
  },
  {
   "cell_type": "markdown",
   "metadata": {
    "id": "vRR2hXrjaQbY"
   },
   "source": [
    "To Check Number is Prime or Not"
   ]
  },
  {
   "cell_type": "code",
   "execution_count": null,
   "metadata": {
    "colab": {
     "base_uri": "https://localhost:8080/"
    },
    "executionInfo": {
     "elapsed": 4071,
     "status": "ok",
     "timestamp": 1728899665710,
     "user": {
      "displayName": "NAVNATH DESHMUKH",
      "userId": "07319468676285488010"
     },
     "user_tz": -330
    },
    "id": "1AvrIgsCaNJz",
    "outputId": "cbcae170-3904-4834-b690-67cbe56bdf09"
   },
   "outputs": [
    {
     "name": "stdout",
     "output_type": "stream",
     "text": [
      "Enter the value :67\n",
      "Number is prime 67\n"
     ]
    }
   ],
   "source": [
    "def num_prime(n):\n",
    "  if n<=1:\n",
    "    return False\n",
    "  for i in range(2, n):\n",
    "    if n % i ==  0:\n",
    "      return False\n",
    "\n",
    "  return True\n",
    "n=int(input(\"Enter the value :\"))\n",
    "if num_prime(n):\n",
    "  print(f\"Number is prime\",n)\n",
    "else:\n",
    "  print(f\"Number is Not Prime\",n)\n"
   ]
  },
  {
   "cell_type": "code",
   "execution_count": null,
   "metadata": {
    "id": "-M5gu_oIhqYI"
   },
   "outputs": [],
   "source": []
  },
  {
   "cell_type": "code",
   "execution_count": null,
   "metadata": {
    "id": "usx1n4oJ-fQw"
   },
   "outputs": [],
   "source": []
  },
  {
   "cell_type": "code",
   "execution_count": null,
   "metadata": {
    "id": "IV8FVSWO-fZh"
   },
   "outputs": [],
   "source": []
  },
  {
   "cell_type": "code",
   "execution_count": null,
   "metadata": {
    "id": "6RkqWwBw-fdE"
   },
   "outputs": [],
   "source": []
  },
  {
   "cell_type": "code",
   "execution_count": null,
   "metadata": {
    "id": "hih-8to_-fgT"
   },
   "outputs": [],
   "source": []
  },
  {
   "cell_type": "code",
   "execution_count": null,
   "metadata": {
    "id": "uULzur6u-fjv"
   },
   "outputs": [],
   "source": []
  },
  {
   "cell_type": "code",
   "execution_count": null,
   "metadata": {
    "id": "npYo0yW5-fry"
   },
   "outputs": [],
   "source": []
  },
  {
   "cell_type": "code",
   "execution_count": null,
   "metadata": {
    "id": "oqi1iQeB-fvT"
   },
   "outputs": [],
   "source": []
  },
  {
   "cell_type": "code",
   "execution_count": null,
   "metadata": {
    "id": "tEE-z9vU-fyx"
   },
   "outputs": [],
   "source": []
  },
  {
   "cell_type": "code",
   "execution_count": null,
   "metadata": {
    "id": "Yyzo26_K-f2E"
   },
   "outputs": [],
   "source": []
  },
  {
   "cell_type": "markdown",
   "metadata": {
    "id": "Za5p8Q2lfQk2"
   },
   "source": [
    "To Check Number is natural Number or Not"
   ]
  },
  {
   "cell_type": "code",
   "execution_count": null,
   "metadata": {
    "colab": {
     "base_uri": "https://localhost:8080/"
    },
    "executionInfo": {
     "elapsed": 6643,
     "status": "ok",
     "timestamp": 1728900709643,
     "user": {
      "displayName": "NAVNATH DESHMUKH",
      "userId": "07319468676285488010"
     },
     "user_tz": -330
    },
    "id": "1pv4uOr-fRCy",
    "outputId": "be42775b-12fa-44ab-b5f7-4ba58de2662d"
   },
   "outputs": [
    {
     "name": "stdout",
     "output_type": "stream",
     "text": [
      "Enter the Number is 6\n",
      "Number Is Natural Number :\n"
     ]
    }
   ],
   "source": [
    "def num_natural(n):\n",
    "  return isinstance(n, int) and n>=1\n",
    "\n",
    "n = int(input(\"Enter the Number is \"))\n",
    "if num_natural(n):\n",
    "  print(\"Number Is Natural Number :\")\n",
    "else:\n",
    "  print(\"Number Is Not Natural :\")\n"
   ]
  },
  {
   "cell_type": "markdown",
   "metadata": {
    "id": "dJqRX6UxEPk1"
   },
   "source": [
    "# File Handling"
   ]
  },
  {
   "cell_type": "markdown",
   "metadata": {
    "id": "LXHhrMYyE-JV"
   },
   "source": [
    "File Handling in Python, demonstrating how to open, read, write, and close files:\n",
    "\n",
    "**1. Opening Files: open() :**\n",
    "The open() function is used to open a file in different modes (read, write, append, etc.).\n",
    "\n",
    "Syntax:\n",
    "\n",
    "`open(filename, mode)`\n",
    "\n",
    "Modes:\n",
    "\n",
    "'r': Read (default mode). The file must exist.\n",
    "\n",
    "'w': Write. If the file exists, it will be overwritten. If it doesn't exist, it will be created.\n",
    "\n",
    "'a': Append. The file is created if it doesn't exist, and data is written at the end of the file.\n",
    "\n",
    "'rb', 'wb': Read and write in binary mode.\n",
    "\n",
    "'r+': Read and write."
   ]
  },
  {
   "cell_type": "code",
   "execution_count": null,
   "metadata": {
    "id": "wIOHevmtEOEd"
   },
   "outputs": [],
   "source": [
    "# Opening a file in read mode\n",
    "file = open('simple.txt', 'r')\n"
   ]
  },
  {
   "cell_type": "markdown",
   "metadata": {
    "id": "I0MDzK_TFaFm"
   },
   "source": [
    "**2. Reading Files: read() and readline()**\n",
    "\n",
    "**read():** Reads the entire content of the file as a single string.\n",
    "\n",
    "**readline():** Reads one line at a time from the file."
   ]
  },
  {
   "cell_type": "code",
   "execution_count": null,
   "metadata": {
    "id": "L2xc53_WFtD1"
   },
   "outputs": [],
   "source": [
    "# Using readline() to read line by line\n",
    "file = open('simple.txt', 'r')\n",
    "line = file.readline()\n",
    "while line:\n",
    "    print(line, end='')  # `end=''` to avoid double newlines\n",
    "    line = file.readline()\n",
    "file.close()"
   ]
  },
  {
   "cell_type": "code",
   "execution_count": null,
   "metadata": {
    "colab": {
     "base_uri": "https://localhost:8080/"
    },
    "executionInfo": {
     "elapsed": 440,
     "status": "ok",
     "timestamp": 1735470256711,
     "user": {
      "displayName": "NAVNATH DESHMUKH",
      "userId": "07319468676285488010"
     },
     "user_tz": -330
    },
    "id": "Vu96CBSPFiC7",
    "outputId": "4131022c-4a5c-40fc-ed5a-e135ab3602a3"
   },
   "outputs": [
    {
     "name": "stdout",
     "output_type": "stream",
     "text": [
      "\n"
     ]
    }
   ],
   "source": [
    "# Using read() to read all content\n",
    "file = open('simple.txt', 'r')\n",
    "content = file.read()\n",
    "print(content)\n",
    "file.close()"
   ]
  },
  {
   "cell_type": "markdown",
   "metadata": {
    "id": "0Kq-KH4TFycm"
   },
   "source": [
    "**3. Writing to Files: write() and writelines()**\n",
    "\n",
    "write(): Writes a string to the file.\n",
    "\n",
    "writelines(): Writes a list of strings to the file"
   ]
  },
  {
   "cell_type": "code",
   "execution_count": null,
   "metadata": {
    "id": "shuo7H5-F2L0"
   },
   "outputs": [],
   "source": [
    "# Writing to a file\n",
    "file = open('example.txt', 'w')  # 'w' mode will overwrite the file\n",
    "file.write('Hello, World!\\nThis is Python file handling.\\n')\n",
    "file.close()"
   ]
  },
  {
   "cell_type": "code",
   "execution_count": null,
   "metadata": {
    "id": "F7aJWIEkF7hW"
   },
   "outputs": [],
   "source": [
    "# Writing multiple lines using writelines()\n",
    "lines = ['First line.\\n', 'Second line.\\n', 'Third line.\\n']\n",
    "file = open('example.txt', 'w')\n",
    "file.writelines(lines)\n",
    "file.close()"
   ]
  },
  {
   "cell_type": "markdown",
   "metadata": {
    "id": "gVvc3Hb2GGK_"
   },
   "source": [
    "**4. Closing Files: close()**\n",
    "Always close a file when done to free up system resources."
   ]
  },
  {
   "cell_type": "code",
   "execution_count": null,
   "metadata": {
    "colab": {
     "base_uri": "https://localhost:8080/"
    },
    "executionInfo": {
     "elapsed": 410,
     "status": "ok",
     "timestamp": 1735470398296,
     "user": {
      "displayName": "NAVNATH DESHMUKH",
      "userId": "07319468676285488010"
     },
     "user_tz": -330
    },
    "id": "sTQveTNGGKsG",
    "outputId": "2af132b9-e6b3-4d19-f2d5-ec800b72c34e"
   },
   "outputs": [
    {
     "name": "stdout",
     "output_type": "stream",
     "text": [
      "First line.\n",
      "Second line.\n",
      "Third line.\n",
      "\n"
     ]
    }
   ],
   "source": [
    "file = open('example.txt', 'r')\n",
    "content = file.read()\n",
    "print(content)\n",
    "file.close()  # Closing the file after reading\n"
   ]
  },
  {
   "cell_type": "code",
   "execution_count": null,
   "metadata": {
    "colab": {
     "base_uri": "https://localhost:8080/"
    },
    "executionInfo": {
     "elapsed": 475,
     "status": "ok",
     "timestamp": 1735470466267,
     "user": {
      "displayName": "NAVNATH DESHMUKH",
      "userId": "07319468676285488010"
     },
     "user_tz": -330
    },
    "id": "Zlwn-WeCGajl",
    "outputId": "42f59053-d5ee-4bd6-eef4-1b4c3b8b79d8"
   },
   "outputs": [
    {
     "name": "stdout",
     "output_type": "stream",
     "text": [
      "File Content:\n",
      " This is a file handling example.\n",
      "File handling is important in programming.\n",
      "\n",
      "\n",
      "Updated File Content:\n",
      " This is a file handling example.\n",
      "File handling is important in programming.\n",
      "Appending new content to the file.\n",
      "\n"
     ]
    }
   ],
   "source": [
    "# Write to a file\n",
    "file = open('example.txt', 'w')\n",
    "file.write('This is a file handling example.\\n')\n",
    "file.write('File handling is important in programming.\\n')\n",
    "file.close()\n",
    "\n",
    "# Read from the file\n",
    "file = open('example.txt', 'r')\n",
    "content = file.read()\n",
    "print(\"File Content:\\n\", content)\n",
    "file.close()\n",
    "\n",
    "# Append to the file\n",
    "file = open('example.txt', 'a')\n",
    "file.write('Appending new content to the file.\\n')\n",
    "file.close()\n",
    "\n",
    "# Read the updated file\n",
    "file = open('example.txt', 'r')\n",
    "content = file.read()\n",
    "print(\"\\nUpdated File Content:\\n\", content)\n",
    "file.close()\n"
   ]
  },
  {
   "cell_type": "markdown",
   "metadata": {
    "id": "brRDS4vYHonm"
   },
   "source": [
    "# Exception Handling"
   ]
  },
  {
   "cell_type": "markdown",
   "metadata": {
    "id": "9vttBy3oH8t8"
   },
   "source": [
    "Exception handling is used to handle runtime errors and exceptions in Python, allowing the program to continue executing without crashing.\n",
    "\n",
    "Key Components:\n",
    "\n",
    "**try block:** Code that may raise an exception is placed inside this block.\n",
    "**except block:** This block catches exceptions that occur in the try block and handles them.\n",
    "**else block:** This block is executed if no exceptions occur in the try block.\n",
    "**finally block:** This block is always executed, regardless of whether an exception was raised or not. It’s commonly used for cleanup tasks."
   ]
  },
  {
   "cell_type": "code",
   "execution_count": null,
   "metadata": {
    "colab": {
     "base_uri": "https://localhost:8080/"
    },
    "executionInfo": {
     "elapsed": 454,
     "status": "ok",
     "timestamp": 1735470932687,
     "user": {
      "displayName": "NAVNATH DESHMUKH",
      "userId": "07319468676285488010"
     },
     "user_tz": -330
    },
    "id": "hfi1Q09FHo58",
    "outputId": "0e5f688c-92f8-4f9d-e7a2-7137e7dc2512"
   },
   "outputs": [
    {
     "name": "stdout",
     "output_type": "stream",
     "text": [
      "Error occurred: division by zero\n",
      "This block always executes.\n"
     ]
    }
   ],
   "source": [
    "try:\n",
    "    # Code that may cause an error\n",
    "    x = 10 / 0  # Division by zero\n",
    "except ZeroDivisionError as e:\n",
    "    # Handling ZeroDivisionError\n",
    "    print(f\"Error occurred: {e}\")\n",
    "else:\n",
    "    # If no exception occurs\n",
    "    print(\"No error occurred.\")\n",
    "finally:\n",
    "    # Always runs\n",
    "    print(\"This block always executes.\")\n"
   ]
  },
  {
   "cell_type": "markdown",
   "metadata": {
    "id": "mywWIP2jIUsX"
   },
   "source": [
    "**Raising Exceptions with raise**\n",
    "\n",
    "\n",
    "The raise keyword is used to explicitly raise an exception. It can be used to throw an exception with a specific error message or condition."
   ]
  },
  {
   "cell_type": "code",
   "execution_count": null,
   "metadata": {
    "colab": {
     "base_uri": "https://localhost:8080/"
    },
    "executionInfo": {
     "elapsed": 1189,
     "status": "ok",
     "timestamp": 1735471061248,
     "user": {
      "displayName": "NAVNATH DESHMUKH",
      "userId": "07319468676285488010"
     },
     "user_tz": -330
    },
    "id": "VmpmeW6CIVGG",
    "outputId": "b4603791-f023-4690-a3e4-ce1ab0849528"
   },
   "outputs": [
    {
     "name": "stdout",
     "output_type": "stream",
     "text": [
      "Error: Age must be at least 18.\n"
     ]
    }
   ],
   "source": [
    "def check_age(age):\n",
    "    if age < 18:\n",
    "        raise ValueError(\"Age must be at least 18.\")\n",
    "    else:\n",
    "        print(\"Access granted.\")\n",
    "\n",
    "try:\n",
    "    check_age(15)  # Age is less than 18, so an exception is raised\n",
    "except ValueError as e:\n",
    "    print(f\"Error: {e}\")\n"
   ]
  },
  {
   "cell_type": "markdown",
   "metadata": {
    "id": "yX1iF4U-JMqV"
   },
   "source": [
    "**Handling Multiple Exceptions**\n",
    "You can handle multiple exceptions using multiple except blocks or a single except block with a tuple of exception types."
   ]
  },
  {
   "cell_type": "code",
   "execution_count": null,
   "metadata": {
    "colab": {
     "base_uri": "https://localhost:8080/"
    },
    "executionInfo": {
     "elapsed": 4886,
     "status": "ok",
     "timestamp": 1735471234777,
     "user": {
      "displayName": "NAVNATH DESHMUKH",
      "userId": "07319468676285488010"
     },
     "user_tz": -330
    },
    "id": "1P1T7bzqJL1k",
    "outputId": "4fafaf64-a371-498d-c4ac-53969aeaa8fb"
   },
   "outputs": [
    {
     "name": "stdout",
     "output_type": "stream",
     "text": [
      "Enter a number: 56\n",
      "Result is: 0.17857142857142858\n",
      "Execution finished.\n"
     ]
    }
   ],
   "source": [
    "try:\n",
    "    x = int(input(\"Enter a number: \"))\n",
    "    result = 10 / x\n",
    "except ValueError:\n",
    "    print(\"Error: Invalid number.\")\n",
    "except ZeroDivisionError:\n",
    "    print(\"Error: Division by zero.\")\n",
    "else:\n",
    "    print(f\"Result is: {result}\")\n",
    "finally:\n",
    "    print(\"Execution finished.\")\n"
   ]
  },
  {
   "cell_type": "markdown",
   "metadata": {
    "id": "rwrL2A_DJtqG"
   },
   "source": [
    "#   Object-Oriented Programming (OOP)"
   ]
  },
  {
   "cell_type": "markdown",
   "metadata": {
    "id": "LqN83TWaKW0f"
   },
   "source": [
    "**1. Class :** blue print for creating object"
   ]
  },
  {
   "cell_type": "code",
   "execution_count": null,
   "metadata": {
    "colab": {
     "base_uri": "https://localhost:8080/"
    },
    "executionInfo": {
     "elapsed": 918,
     "status": "ok",
     "timestamp": 1735477403527,
     "user": {
      "displayName": "NAVNATH DESHMUKH",
      "userId": "07319468676285488010"
     },
     "user_tz": -330
    },
    "id": "_tKBw-6jJLyu",
    "outputId": "72ba8a24-9240-4679-a5ac-c498ab8b48ec"
   },
   "outputs": [
    {
     "name": "stdout",
     "output_type": "stream",
     "text": [
      "56\n"
     ]
    }
   ],
   "source": [
    "class myclass:\n",
    "  x=56\n",
    "\n",
    "p1 =myclass()\n",
    "print(p1.x)"
   ]
  },
  {
   "cell_type": "markdown",
   "metadata": {
    "id": "yQUX6zIqLT2t"
   },
   "source": [
    "**2. Object :** It has both attributes and function."
   ]
  },
  {
   "cell_type": "code",
   "execution_count": null,
   "metadata": {
    "colab": {
     "base_uri": "https://localhost:8080/"
    },
    "executionInfo": {
     "elapsed": 238313,
     "status": "ok",
     "timestamp": 1735477642535,
     "user": {
      "displayName": "NAVNATH DESHMUKH",
      "userId": "07319468676285488010"
     },
     "user_tz": -330
    },
    "id": "S4uemDxfLmf-",
    "outputId": "eca3c991-39a2-4b37-a0c5-e7a3d724d849"
   },
   "outputs": [
    {
     "name": "stdout",
     "output_type": "stream",
     "text": [
      "Enter the name :ram\n",
      "ram\n",
      "<__main__.myclass object at 0x7c219ae61e10>\n"
     ]
    }
   ],
   "source": [
    "class myclass:\n",
    "  print(input(\"Enter the name :\"))\n",
    "\n",
    "  my_class = myclass()\n",
    "print(myclass.my_class)"
   ]
  },
  {
   "cell_type": "markdown",
   "metadata": {
    "id": "_Qs1lb-cMGCV"
   },
   "source": [
    "**3.  __init__  Function or Method :**\n",
    "When you creating an object from a class this method automatically called to function or **methods**"
   ]
  },
  {
   "cell_type": "code",
   "execution_count": null,
   "metadata": {
    "colab": {
     "base_uri": "https://localhost:8080/"
    },
    "executionInfo": {
     "elapsed": 40,
     "status": "ok",
     "timestamp": 1735477642536,
     "user": {
      "displayName": "NAVNATH DESHMUKH",
      "userId": "07319468676285488010"
     },
     "user_tz": -330
    },
    "id": "5zorniMxN56t",
    "outputId": "c14a78ce-86ae-49d4-ba28-ec4a90b8bf3e"
   },
   "outputs": [
    {
     "name": "stdout",
     "output_type": "stream",
     "text": [
      "Ram\n",
      "3089\n"
     ]
    }
   ],
   "source": [
    "class person:\n",
    "  def __init__(self,name,rollnumber): # Changed _init__ to __init__\n",
    "    self.name = name\n",
    "    self.rollnumber = rollnumber\n",
    "\n",
    "p=person(\"Ram\",\"3089\") # Pass both name and rollnumber\n",
    "\n",
    "print(p.name )\n",
    "print(p.rollnumber)"
   ]
  },
  {
   "cell_type": "markdown",
   "metadata": {
    "id": "RUFBJemXOBZm"
   },
   "source": [
    "**3. Attributes and Methods**\n",
    "\n",
    "Attributes: Variables that belong to a class or instance (e.g., name, age).\n",
    "\n",
    "Methods: Functions that are defined inside a class to operate on its attributes (e.g., greet()). explain one examples"
   ]
  },
  {
   "cell_type": "code",
   "execution_count": null,
   "metadata": {
    "colab": {
     "base_uri": "https://localhost:8080/"
    },
    "executionInfo": {
     "elapsed": 37,
     "status": "ok",
     "timestamp": 1735477642536,
     "user": {
      "displayName": "NAVNATH DESHMUKH",
      "userId": "07319468676285488010"
     },
     "user_tz": -330
    },
    "id": "ugHCRsY-LpJ9",
    "outputId": "585869ab-c328-4400-d342-7da60256aaa8"
   },
   "outputs": [
    {
     "name": "stdout",
     "output_type": "stream",
     "text": [
      "Hello, my name is Navnath and I am 22 years old.\n",
      "Happy Birthday! I am now 23 years old.\n",
      "Hello, my name is Navnath and I am 23 years old.\n"
     ]
    }
   ],
   "source": [
    "class Person:\n",
    "    # Constructor to initialize attributes\n",
    "    def __init__(self, name, age):\n",
    "        self.name = name  # Instance attribute\n",
    "        self.age = age    # Instance attribute\n",
    "\n",
    "    # Method to print a greeting message\n",
    "    def greet(self):\n",
    "        print(f\"Hello, my name is {self.name} and I am {self.age} years old.\")\n",
    "\n",
    "    # Method to update the age\n",
    "    def have_birthday(self):\n",
    "        self.age += 1\n",
    "        print(f\"Happy Birthday! I am now {self.age} years old.\")\n",
    "\n",
    "# Creating an object (instance) of the Person class\n",
    "person1 = Person(\"Navnath\", 22)\n",
    "\n",
    "# Accessing and using the attributes and methods\n",
    "person1.greet()  # Calling greet method to print the greeting message\n",
    "person1.have_birthday()  # Calling have_birthday method to increment age\n",
    "person1.greet()  # Calling greet again to show updated age\n"
   ]
  },
  {
   "cell_type": "markdown",
   "metadata": {
    "id": "z25pocxHO03G"
   },
   "source": [
    "**4. Constructors (__init__)**\n",
    "The __init__ method is called when an object is created. It initializes the object's attributes."
   ]
  },
  {
   "cell_type": "code",
   "execution_count": null,
   "metadata": {
    "colab": {
     "base_uri": "https://localhost:8080/"
    },
    "executionInfo": {
     "elapsed": 34,
     "status": "ok",
     "timestamp": 1735477642536,
     "user": {
      "displayName": "NAVNATH DESHMUKH",
      "userId": "07319468676285488010"
     },
     "user_tz": -330
    },
    "id": "MRAcNRofLpG3",
    "outputId": "082c4181-a305-4b01-9b28-606f1176a412"
   },
   "outputs": [
    {
     "name": "stdout",
     "output_type": "stream",
     "text": [
      "Title: Python Programming, Author: John Doe\n"
     ]
    }
   ],
   "source": [
    "class Book:\n",
    "    def __init__(self, title, author):\n",
    "        self.title = title\n",
    "        self.author = author\n",
    "\n",
    "    def display_info(self):\n",
    "        print(f\"Title: {self.title}, Author: {self.author}\")\n",
    "\n",
    "# Creating an object of the Book class\n",
    "book1 = Book(\"Python Programming\", \"John Doe\")\n",
    "book1.display_info()  # Output: Title: Python Programming, Author: John Doe\n"
   ]
  },
  {
   "cell_type": "markdown",
   "metadata": {
    "id": "XF71vnL1PL02"
   },
   "source": [
    "**Constructors Types**\n",
    "\n",
    "\n",
    "**Default Constructor:** A constructor that doesn't take any arguments other than self. It initializes attributes with default values.\n",
    "\n",
    "**Parameterized Constructor:** A constructor that accepts parameters to initialize the attributes of an object.\n",
    "\n",
    "**Constructor Overloading:** Python doesn't support constructor overloading directly, but it can be simulated with default arguments or variable-length arguments.\n",
    "\n",
    "**Class Method Constructor:** An alternative constructor that uses a class method to create an object in a different way."
   ]
  },
  {
   "cell_type": "markdown",
   "metadata": {
    "id": "ZjhSakpqaTVe"
   },
   "source": [
    "**Default Constructor:** A constructor that doesn't take any arguments other than self. It initializes attributes with default values."
   ]
  },
  {
   "cell_type": "code",
   "execution_count": null,
   "metadata": {
    "colab": {
     "base_uri": "https://localhost:8080/"
    },
    "executionInfo": {
     "elapsed": 31,
     "status": "ok",
     "timestamp": 1735477642536,
     "user": {
      "displayName": "NAVNATH DESHMUKH",
      "userId": "07319468676285488010"
     },
     "user_tz": -330
    },
    "id": "V3o6_iktLpDe",
    "outputId": "31e91551-e9b2-4ff0-a71b-f5fb503f737c"
   },
   "outputs": [
    {
     "name": "stdout",
     "output_type": "stream",
     "text": [
      "Hello, my name is Unknown and I am 0 years old.\n"
     ]
    }
   ],
   "source": [
    "class Person:\n",
    "    def __init__(self):\n",
    "        # Default constructor that initializes with default values\n",
    "        self.name = \"Unknown\"\n",
    "        self.age = 0\n",
    "\n",
    "    def greet(self):\n",
    "        print(f\"Hello, my name is {self.name} and I am {self.age} years old.\")\n",
    "\n",
    "# Creating an object using the default constructor\n",
    "person1 = Person()\n",
    "person1.greet()  # Output: Hello, my name is Unknown and I am 0 years old.\n"
   ]
  },
  {
   "cell_type": "markdown",
   "metadata": {
    "id": "yeO4p0xjajzo"
   },
   "source": [
    "**2. Parameterized Constructor**\n",
    "A parameterized constructor is one that takes parameters (other than self) to initialize the attributes of the object. These values are passed during object creation."
   ]
  },
  {
   "cell_type": "code",
   "execution_count": null,
   "metadata": {
    "colab": {
     "base_uri": "https://localhost:8080/"
    },
    "executionInfo": {
     "elapsed": 29,
     "status": "ok",
     "timestamp": 1735477642536,
     "user": {
      "displayName": "NAVNATH DESHMUKH",
      "userId": "07319468676285488010"
     },
     "user_tz": -330
    },
    "id": "cukgUkd3Lo-X",
    "outputId": "d1883dd3-7bfb-4b10-caf5-eb565e3fd9ec"
   },
   "outputs": [
    {
     "name": "stdout",
     "output_type": "stream",
     "text": [
      "Hello, my name is Navnath and I am 22 years old.\n"
     ]
    }
   ],
   "source": [
    "class Person:\n",
    "    def __init__(self, name, age):\n",
    "        # Parameterized constructor that initializes with given values\n",
    "        self.name = name\n",
    "        self.age = age\n",
    "\n",
    "    def greet(self):\n",
    "        print(f\"Hello, my name is {self.name} and I am {self.age} years old.\")\n",
    "\n",
    "# Creating an object with parameterized constructor\n",
    "person2 = Person(\"Navnath\", 22)\n",
    "person2.greet()  # Output: Hello, my name is Navnath and I am 22 years old.\n"
   ]
  },
  {
   "cell_type": "markdown",
   "metadata": {
    "id": "0w3YjY_napwV"
   },
   "source": [
    "**Constructor Overloading:** Python doesn't support constructor overloading directly, but it can be simulated with default arguments or variable-length arguments."
   ]
  },
  {
   "cell_type": "code",
   "execution_count": null,
   "metadata": {
    "colab": {
     "base_uri": "https://localhost:8080/"
    },
    "executionInfo": {
     "elapsed": 27,
     "status": "ok",
     "timestamp": 1735477642536,
     "user": {
      "displayName": "NAVNATH DESHMUKH",
      "userId": "07319468676285488010"
     },
     "user_tz": -330
    },
    "id": "5vgLJ5N6Lo7P",
    "outputId": "b694eab0-54ac-4380-9d3d-fbc106cdcd1d"
   },
   "outputs": [
    {
     "name": "stdout",
     "output_type": "stream",
     "text": [
      "Hello, my name is Unknown and I am 0 years old.\n",
      "Hello, my name is Alice and I am 30 years old.\n"
     ]
    }
   ],
   "source": [
    "class Person:\n",
    "    def __init__(self, name=\"Unknown\", age=0):\n",
    "        # Constructor with default values for parameters\n",
    "        self.name = name\n",
    "        self.age = age\n",
    "\n",
    "    def greet(self):\n",
    "        print(f\"Hello, my name is {self.name} and I am {self.age} years old.\")\n",
    "\n",
    "# Creating objects with different numbers of arguments\n",
    "person1 = Person()  # Using default values\n",
    "person1.greet()  # Output: Hello, my name is Unknown and I am 0 years old.\n",
    "\n",
    "person2 = Person(\"Alice\", 30)  # Passing custom values\n",
    "person2.greet()  # Output: Hello, my name is Alice and I am 30 years old.\n"
   ]
  },
  {
   "cell_type": "code",
   "execution_count": null,
   "metadata": {
    "colab": {
     "base_uri": "https://localhost:8080/"
    },
    "executionInfo": {
     "elapsed": 25,
     "status": "ok",
     "timestamp": 1735477642536,
     "user": {
      "displayName": "NAVNATH DESHMUKH",
      "userId": "07319468676285488010"
     },
     "user_tz": -330
    },
    "id": "bJS3phLMLo4I",
    "outputId": "62945b26-7c16-4a8d-9ffd-542551334ba7"
   },
   "outputs": [
    {
     "name": "stdout",
     "output_type": "stream",
     "text": [
      "Hello, my name is John and I am 0 years old.\n",
      "Hello, my name is Navnath and I am 22 years old.\n"
     ]
    }
   ],
   "source": [
    "class Person:\n",
    "    def __init__(self, *args):\n",
    "        if len(args) == 1:\n",
    "            self.name = args[0]\n",
    "            self.age = 0\n",
    "        elif len(args) == 2:\n",
    "            self.name = args[0]\n",
    "            self.age = args[1]\n",
    "        else:\n",
    "            self.name = \"Unknown\"\n",
    "            self.age = 0\n",
    "\n",
    "    def greet(self):\n",
    "        print(f\"Hello, my name is {self.name} and I am {self.age} years old.\")\n",
    "\n",
    "# Creating objects with different argument lengths\n",
    "person1 = Person(\"John\")  # Only name is provided\n",
    "person1.greet()  # Output: Hello, my name is John and I am 0 years old.\n",
    "\n",
    "person2 = Person(\"Navnath\", 22)  # Both name and age are provided\n",
    "person2.greet()  # Output: Hello, my name is Navnath and I am 22 years old.\n"
   ]
  },
  {
   "cell_type": "markdown",
   "metadata": {
    "id": "oRjwoOCKa-Se"
   },
   "source": [
    "**Class Method Constructor:** An alternative constructor that uses a class method to create an object in a different way."
   ]
  },
  {
   "cell_type": "code",
   "execution_count": null,
   "metadata": {
    "colab": {
     "base_uri": "https://localhost:8080/"
    },
    "executionInfo": {
     "elapsed": 23,
     "status": "ok",
     "timestamp": 1735477642536,
     "user": {
      "displayName": "NAVNATH DESHMUKH",
      "userId": "07319468676285488010"
     },
     "user_tz": -330
    },
    "id": "DI2M_MDGLou-",
    "outputId": "7692b60e-c198-499f-eb13-20388c523c40"
   },
   "outputs": [
    {
     "name": "stdout",
     "output_type": "stream",
     "text": [
      "Hello, my name is Navnath and I am 22 years old.\n"
     ]
    }
   ],
   "source": [
    "class Person:\n",
    "    def __init__(self, name, age):\n",
    "        self.name = name\n",
    "        self.age = age\n",
    "\n",
    "    @classmethod\n",
    "    def from_birth_year(cls, name, birth_year):\n",
    "        # Alternative constructor using class method\n",
    "        age = 2024 - birth_year  # Assume current year is 2024\n",
    "        return cls(name, age)\n",
    "\n",
    "    def greet(self):\n",
    "        print(f\"Hello, my name is {self.name} and I am {self.age} years old.\")\n",
    "\n",
    "# Creating an object using the class method constructor\n",
    "person1 = Person.from_birth_year(\"Navnath\", 2002)\n",
    "person1.greet()  # Output: Hello, my name is Navnath and I am 22 years old.\n"
   ]
  },
  {
   "cell_type": "markdown",
   "metadata": {
    "id": "Z9HXHdvlbamG"
   },
   "source": [
    "**Inheritance :** is a key feature of Object-Oriented Programming (OOP) that allows a class (child class) to inherit properties (attributes and methods) from another class (parent class). It promotes code reuse, extensibility, and maintainability.\n",
    "\n",
    "Python supports single inheritance, multiple inheritance, multilevel inheritance, and hierarchical inheritance.\n",
    "\n",
    "Types of Inheritance:\n",
    "\n",
    "Single Inheritance\n",
    "\n",
    "Multiple Inheritance\n",
    "\n",
    "Multilevel Inheritance\n",
    "\n",
    "Hierarchical Inheritance"
   ]
  },
  {
   "cell_type": "markdown",
   "metadata": {
    "id": "b_vHj1oxboXF"
   },
   "source": [
    "**1. Single Inheritance**\n",
    "In single inheritance, a child class inherits from only one parent class."
   ]
  },
  {
   "cell_type": "code",
   "execution_count": null,
   "metadata": {
    "colab": {
     "base_uri": "https://localhost:8080/"
    },
    "executionInfo": {
     "elapsed": 21,
     "status": "ok",
     "timestamp": 1735477642536,
     "user": {
      "displayName": "NAVNATH DESHMUKH",
      "userId": "07319468676285488010"
     },
     "user_tz": -330
    },
    "id": "NqCUJ2ePbn-1",
    "outputId": "e0ccff01-5336-49fa-edef-24e69b713a92"
   },
   "outputs": [
    {
     "name": "stdout",
     "output_type": "stream",
     "text": [
      "Animal makes a sound\n",
      "Dog barks\n"
     ]
    }
   ],
   "source": [
    "# Parent class\n",
    "class Animal:\n",
    "    def speak(self):\n",
    "        print(\"Animal makes a sound\")\n",
    "\n",
    "# Child class inheriting from Animal\n",
    "class Dog(Animal):\n",
    "    def bark(self):\n",
    "        print(\"Dog barks\")\n",
    "\n",
    "# Creating an object of Dog\n",
    "dog = Dog()\n",
    "dog.speak()  # Inherited method from Animal\n",
    "dog.bark()   # Method of Dog class\n"
   ]
  },
  {
   "cell_type": "markdown",
   "metadata": {
    "id": "Gtwvo-KqbugW"
   },
   "source": [
    "2. Multiple Inheritance\n",
    "In multiple inheritance, a child class inherits from more than one parent class."
   ]
  },
  {
   "cell_type": "code",
   "execution_count": null,
   "metadata": {
    "colab": {
     "base_uri": "https://localhost:8080/"
    },
    "executionInfo": {
     "elapsed": 20,
     "status": "ok",
     "timestamp": 1735477642537,
     "user": {
      "displayName": "NAVNATH DESHMUKH",
      "userId": "07319468676285488010"
     },
     "user_tz": -330
    },
    "id": "inchV9pKbn75",
    "outputId": "4add2238-68c0-4b26-e1a0-8a01ab477820"
   },
   "outputs": [
    {
     "name": "stdout",
     "output_type": "stream",
     "text": [
      "Animal makes a sound\n",
      "Bird flies\n",
      "Duck swims\n"
     ]
    }
   ],
   "source": [
    "# Parent class 1\n",
    "class Animal:\n",
    "    def speak(self):\n",
    "        print(\"Animal makes a sound\")\n",
    "\n",
    "# Parent class 2\n",
    "class Bird:\n",
    "    def fly(self):\n",
    "        print(\"Bird flies\")\n",
    "\n",
    "# Child class inheriting from both Animal and Bird\n",
    "class Duck(Animal, Bird):\n",
    "    def swim(self):\n",
    "        print(\"Duck swims\")\n",
    "\n",
    "# Creating an object of Duck\n",
    "duck = Duck()\n",
    "duck.speak()  # Inherited method from Animal\n",
    "duck.fly()    # Inherited method from Bird\n",
    "duck.swim()   # Method of Duck class\n"
   ]
  },
  {
   "cell_type": "markdown",
   "metadata": {
    "id": "Vel6SQj2bxMF"
   },
   "source": [
    "3. Multilevel Inheritance\n",
    "In multilevel inheritance, a child class inherits from a parent class, and the parent class itself inherits from another parent class, forming a chain of inheritance."
   ]
  },
  {
   "cell_type": "code",
   "execution_count": null,
   "metadata": {
    "colab": {
     "base_uri": "https://localhost:8080/"
    },
    "executionInfo": {
     "elapsed": 18,
     "status": "ok",
     "timestamp": 1735477642537,
     "user": {
      "displayName": "NAVNATH DESHMUKH",
      "userId": "07319468676285488010"
     },
     "user_tz": -330
    },
    "id": "JoKn0S6Obn5H",
    "outputId": "7f34f3cd-8726-43e7-cbc6-6c97ac36ac16"
   },
   "outputs": [
    {
     "name": "stdout",
     "output_type": "stream",
     "text": [
      "Animal makes a sound\n",
      "Mammal walks\n",
      "Dog barks\n"
     ]
    }
   ],
   "source": [
    "# Parent class\n",
    "class Animal:\n",
    "    def speak(self):\n",
    "        print(\"Animal makes a sound\")\n",
    "\n",
    "# Child class inheriting from Animal\n",
    "class Mammal(Animal):\n",
    "    def walk(self):\n",
    "        print(\"Mammal walks\")\n",
    "\n",
    "# Grandchild class inheriting from Mammal\n",
    "class Dog(Mammal):\n",
    "    def bark(self):\n",
    "        print(\"Dog barks\")\n",
    "\n",
    "# Creating an object of Dog\n",
    "dog = Dog()\n",
    "dog.speak()  # Inherited from Animal\n",
    "dog.walk()   # Inherited from Mammal\n",
    "dog.bark()   # Method of Dog class\n"
   ]
  },
  {
   "cell_type": "markdown",
   "metadata": {
    "id": "vsGOMxL5b5XF"
   },
   "source": [
    "4. Hierarchical Inheritance\n",
    "In hierarchical inheritance, multiple child classes inherit from the same parent class."
   ]
  },
  {
   "cell_type": "code",
   "execution_count": null,
   "metadata": {
    "colab": {
     "base_uri": "https://localhost:8080/"
    },
    "executionInfo": {
     "elapsed": 17,
     "status": "ok",
     "timestamp": 1735477642537,
     "user": {
      "displayName": "NAVNATH DESHMUKH",
      "userId": "07319468676285488010"
     },
     "user_tz": -330
    },
    "id": "YS5MMb-ubn2J",
    "outputId": "d410669d-f833-4de8-c525-620a134b382b"
   },
   "outputs": [
    {
     "name": "stdout",
     "output_type": "stream",
     "text": [
      "Animal makes a sound\n",
      "Dog barks\n",
      "Animal makes a sound\n",
      "Cat meows\n"
     ]
    }
   ],
   "source": [
    "# Parent class\n",
    "class Animal:\n",
    "    def speak(self):\n",
    "        print(\"Animal makes a sound\")\n",
    "\n",
    "# Child class 1 inheriting from Animal\n",
    "class Dog(Animal):\n",
    "    def bark(self):\n",
    "        print(\"Dog barks\")\n",
    "\n",
    "# Child class 2 inheriting from Animal\n",
    "class Cat(Animal):\n",
    "    def meow(self):\n",
    "        print(\"Cat meows\")\n",
    "\n",
    "# Creating objects of Dog and Cat\n",
    "dog = Dog()\n",
    "dog.speak()  # Inherited from Animal\n",
    "dog.bark()   # Method of Dog class\n",
    "\n",
    "cat = Cat()\n",
    "cat.speak()  # Inherited from Animal\n",
    "cat.meow()   # Method of Cat class\n"
   ]
  },
  {
   "cell_type": "markdown",
   "metadata": {
    "id": "fAP23nvRcJ79"
   },
   "source": [
    "**Polymorphism**\n",
    "\n",
    "Polymorphism means \"many shapes\" and refers to the ability of different objects to respond to the same method or operation in their own unique way. In Python, polymorphism allows objects of different classes to be treated as objects of a common superclass, typically through method overriding and method overloading (although overloading is limited in Python).\n",
    "\n",
    "Polymorphism can be classified into two main types:\n",
    "\n",
    "Method Overriding (Runtime Polymorphism)\n",
    "\n",
    "Method Overloading (Compile-time Polymorphism)"
   ]
  },
  {
   "cell_type": "markdown",
   "metadata": {
    "id": "Im7idWKNcdLk"
   },
   "source": [
    "**1. Method Overriding (Runtime Polymorphism)**\n",
    "\n",
    "Method overriding occurs when a subclass provides a specific implementation of a method that is already defined in its parent class. This allows the child class to modify or extend the behavior of the parent class method."
   ]
  },
  {
   "cell_type": "code",
   "execution_count": null,
   "metadata": {
    "colab": {
     "base_uri": "https://localhost:8080/"
    },
    "executionInfo": {
     "elapsed": 15,
     "status": "ok",
     "timestamp": 1735477642537,
     "user": {
      "displayName": "NAVNATH DESHMUKH",
      "userId": "07319468676285488010"
     },
     "user_tz": -330
    },
    "id": "ysk3ChLIbnzI",
    "outputId": "e0bed7e0-539d-4c84-c82f-74b18354fb20"
   },
   "outputs": [
    {
     "name": "stdout",
     "output_type": "stream",
     "text": [
      "Animal makes a sound\n",
      "Dog barks\n",
      "Cat meows\n"
     ]
    }
   ],
   "source": [
    "# Parent class\n",
    "class Animal:\n",
    "    def sound(self):\n",
    "        print(\"Animal makes a sound\")\n",
    "\n",
    "# Child class overriding the method of parent class\n",
    "class Dog(Animal):\n",
    "    def sound(self):\n",
    "        print(\"Dog barks\")\n",
    "\n",
    "class Cat(Animal):\n",
    "    def sound(self):\n",
    "        print(\"Cat meows\")\n",
    "\n",
    "# Creating objects of Dog and Cat\n",
    "animal = Animal()\n",
    "dog = Dog()\n",
    "cat = Cat()\n",
    "\n",
    "# Calling the sound() method\n",
    "animal.sound()  # Output: Animal makes a sound\n",
    "dog.sound()     # Output: Dog barks\n",
    "cat.sound()     # Output: Cat meows\n"
   ]
  },
  {
   "cell_type": "markdown",
   "metadata": {
    "id": "qgJmQs_gcjSl"
   },
   "source": [
    "**2. Method Overloading (Compile-time Polymorphism)**\n",
    "\n",
    "Method overloading refers to defining multiple methods with the same name but different parameters (either by varying the number or type of parameters). While Python doesn't support traditional method overloading like other languages (e.g., Java), it can be simulated using default arguments or variable-length arguments (*args and **kwargs)."
   ]
  },
  {
   "cell_type": "code",
   "execution_count": null,
   "metadata": {
    "colab": {
     "base_uri": "https://localhost:8080/"
    },
    "executionInfo": {
     "elapsed": 13,
     "status": "ok",
     "timestamp": 1735477642537,
     "user": {
      "displayName": "NAVNATH DESHMUKH",
      "userId": "07319468676285488010"
     },
     "user_tz": -330
    },
    "id": "F5bqIoBIbnvv",
    "outputId": "ff52059a-462f-4ade-b99f-48add5676e6a"
   },
   "outputs": [
    {
     "name": "stdout",
     "output_type": "stream",
     "text": [
      "5\n",
      "15\n",
      "30\n"
     ]
    }
   ],
   "source": [
    "class Calculator:\n",
    "    def add(self, a, b=0, c=0):  # Method overloading by default arguments\n",
    "        return a + b + c\n",
    "\n",
    "# Creating an object of Calculator\n",
    "calc = Calculator()\n",
    "\n",
    "print(calc.add(5))        # Output: 5 (a=5, b=0, c=0)\n",
    "print(calc.add(5, 10))    # Output: 15 (a=5, b=10, c=0)\n",
    "print(calc.add(5, 10, 15))  # Output: 30 (a=5, b=10, c=15)\n"
   ]
  },
  {
   "cell_type": "markdown",
   "metadata": {
    "id": "f8GLvgVjdGdt"
   },
   "source": [
    "### **Encapsulation in Python: Concept, Types, and Example**\n",
    "\n",
    "**Encapsulation** is one of the core concepts in Object-Oriented Programming (OOP). It refers to the bundling of data (attributes) and methods (functions) that operate on the data into a single unit, known as a **class**. Encapsulation also helps protect the internal state of an object by restricting access to its data and controlling how it is modified.\n",
    "\n",
    "In Python, encapsulation is primarily achieved by using **access modifiers** and **getter/setter methods**.\n",
    "\n",
    "### **Types of Encapsulation:**\n",
    "\n",
    "1. **Public Access Modifier**  \n",
    "2. **Protected Access Modifier**  \n",
    "3. **Private Access Modifier**\n",
    "\n",
    "---\n",
    "\n",
    "### 1. **Public Access Modifier**\n",
    "Attributes and methods that are defined with a **public** access modifier are accessible from outside the class. By default, all members of a class are public in Python.\n",
    "\n",
    "- **Public members** can be accessed and modified directly without any restrictions.\n",
    "\n",
    "#### Example of Public Access:\n",
    "```python\n",
    "class Employee:\n",
    "    def __init__(self, name, salary):\n",
    "        self.name = name  # public attribute\n",
    "        self.salary = salary  # public attribute\n",
    "    \n",
    "    def display_info(self):  # public method\n",
    "        print(f\"Name: {self.name}, Salary: {self.salary}\")\n",
    "\n",
    "# Creating an object of Employee\n",
    "emp = Employee(\"John\", 5000)\n",
    "emp.display_info()  # Accessing public method directly\n",
    "\n",
    "# Directly modifying public attributes\n",
    "emp.salary = 6000\n",
    "emp.display_info()  # Output: Name: John, Salary: 6000\n",
    "```\n",
    "\n",
    "**Explanation:**\n",
    "- `name` and `salary` are public attributes, and they can be accessed and modified directly by creating an object of the class.\n",
    "\n",
    "---\n",
    "\n",
    "### 2. **Protected Access Modifier**\n",
    "Attributes and methods with a **protected** access modifier are meant to be accessible within the class and its subclasses (child classes). In Python, there is no strict enforcement of protected members, but conventionally, a single underscore (`_`) is used to indicate that an attribute or method is **protected**.\n",
    "\n",
    "- **Protected members** should not be accessed directly from outside the class but can be accessed in subclasses.\n",
    "\n",
    "#### Example of Protected Access:\n",
    "```python\n",
    "class Employee:\n",
    "    def __init__(self, name, salary):\n",
    "        self._name = name  # protected attribute\n",
    "        self._salary = salary  # protected attribute\n",
    "    \n",
    "    def display_info(self):  # public method\n",
    "        print(f\"Name: {self._name}, Salary: {self._salary}\")\n",
    "\n",
    "class Manager(Employee):\n",
    "    def __init__(self, name, salary, department):\n",
    "        super().__init__(name, salary)\n",
    "        self._department = department  # Protected attribute\n",
    "    \n",
    "    def display_manager_info(self):\n",
    "        print(f\"Manager {self._name} manages the {self._department} department.\")\n",
    "\n",
    "# Creating an object of Manager (child class)\n",
    "mgr = Manager(\"Alice\", 8000, \"HR\")\n",
    "mgr.display_info()  # Accessing inherited public method\n",
    "mgr.display_manager_info()  # Accessing method in Manager class\n",
    "```\n",
    "\n",
    "**Explanation:**\n",
    "- `_name` and `_salary` are protected attributes.\n",
    "- These can be accessed within the class and its subclasses (like `Manager`), but accessing them directly from outside the class is not recommended.\n",
    "\n",
    "---\n",
    "\n",
    "### 3. **Private Access Modifier**\n",
    "Attributes and methods with a **private** access modifier are meant to be **inaccessible** from outside the class. In Python, private members are defined with a **double underscore** (`__`). This prevents accidental access or modification of the class attributes and methods from outside the class.\n",
    "\n",
    "- **Private members** can only be accessed within the class itself. Attempting to access them directly from outside the class will result in an error.\n",
    "\n",
    "#### Example of Private Access:\n",
    "```python\n",
    "class Employee:\n",
    "    def __init__(self, name, salary):\n",
    "        self.__name = name  # private attribute\n",
    "        self.__salary = salary  # private attribute\n",
    "    \n",
    "    def __display_info(self):  # private method\n",
    "        print(f\"Name: {self.__name}, Salary: {self.__salary}\")\n",
    "    \n",
    "    def display(self):\n",
    "        self.__display_info()  # Accessing private method within the class\n",
    "\n",
    "# Creating an object of Employee\n",
    "emp = Employee(\"John\", 5000)\n",
    "emp.display()  # Accessing public method that calls private method\n",
    "\n",
    "# Trying to access private members directly (will raise an error)\n",
    "# print(emp.__name)  # Error: AttributeError: 'Employee' object has no attribute '__name'\n",
    "\n",
    "# Accessing private members via name mangling\n",
    "print(emp._Employee__name)  # This works but is not recommended\n",
    "```\n",
    "\n",
    "**Explanation:**\n",
    "- `__name` and `__salary` are private attributes, and `__display_info()` is a private method.\n",
    "- These private members cannot be accessed directly from outside the class, but they can be accessed inside the class itself or through \"name mangling\" (e.g., `_Employee__name`), which is not a recommended practice.\n",
    "\n",
    "---\n",
    "\n",
    "### **Encapsulation in Python (Using Getter and Setter Methods)**\n",
    "\n",
    "In Python, even though attributes can be public, private attributes can be protected using **getter** and **setter** methods. This allows for **controlled access** to the private data.\n",
    "\n",
    "#### Example with Getters and Setters:\n",
    "```python\n",
    "class Employee:\n",
    "    def __init__(self, name, salary):\n",
    "        self.__name = name\n",
    "        self.__salary = salary\n",
    "    \n",
    "    # Getter method for name\n",
    "    def get_name(self):\n",
    "        return self.__name\n",
    "    \n",
    "    # Setter method for name\n",
    "    def set_name(self, name):\n",
    "        self.__name = name\n",
    "    \n",
    "    # Getter method for salary\n",
    "    def get_salary(self):\n",
    "        return self.__salary\n",
    "    \n",
    "    # Setter method for salary\n",
    "    def set_salary(self, salary):\n",
    "        self.__salary = salary\n",
    "\n",
    "# Creating an object of Employee\n",
    "emp = Employee(\"John\", 5000)\n",
    "\n",
    "# Accessing and modifying private attributes via getter and setter\n",
    "print(emp.get_name())   # Output: John\n",
    "emp.set_salary(6000)    # Modifying private attribute using setter\n",
    "print(emp.get_salary()) # Output: 6000\n",
    "```\n",
    "\n",
    "**Explanation:**\n",
    "- The `__name` and `__salary` attributes are private.\n",
    "- Getter and setter methods (`get_name()`, `set_name()`, `get_salary()`, `set_salary()`) are used to access and modify these private attributes.\n",
    "- This provides controlled access to private data, ensuring that it is modified in a safe and predictable way.\n",
    "\n",
    "---\n",
    "\n",
    "### **Summary of Encapsulation Types:**\n",
    "\n",
    "1. **Public**: Attributes and methods are accessible from outside the class.\n",
    "2. **Protected**: Attributes and methods are meant to be accessed within the class and its subclasses. Indicated by a single underscore (`_`).\n",
    "3. **Private**: Attributes and methods are inaccessible from outside the class, typically indicated by a double underscore (`__`).\n",
    "4. **Getters and Setters**: Methods used to access or modify private data in a controlled manner.\n",
    "\n",
    "!"
   ]
  },
  {
   "cell_type": "markdown",
   "metadata": {
    "id": "2N2_WJgZdaRl"
   },
   "source": [
    "**Abstraction** the process of hiding the complex implementation details of a system while exposing only the essential functionality to the user."
   ]
  },
  {
   "cell_type": "code",
   "execution_count": null,
   "metadata": {
    "colab": {
     "base_uri": "https://localhost:8080/"
    },
    "executionInfo": {
     "elapsed": 11,
     "status": "ok",
     "timestamp": 1735477642537,
     "user": {
      "displayName": "NAVNATH DESHMUKH",
      "userId": "07319468676285488010"
     },
     "user_tz": -330
    },
    "id": "KGb6HOuNJLwF",
    "outputId": "0d0d21a6-7b46-48ad-fe17-79acecba50d8"
   },
   "outputs": [
    {
     "name": "stdout",
     "output_type": "stream",
     "text": [
      "Dog sound: Bark\n",
      "Dog movement: Run\n",
      "Bird sound: Chirp\n",
      "Bird movement: Fly\n"
     ]
    }
   ],
   "source": [
    "from abc import ABC, abstractmethod\n",
    "\n",
    "# Abstract class\n",
    "class Animal(ABC):\n",
    "\n",
    "    @abstractmethod\n",
    "    def sound(self):\n",
    "        pass  # Abstract method, does not provide implementation\n",
    "\n",
    "    @abstractmethod\n",
    "    def move(self):\n",
    "        pass  # Abstract method, does not provide implementation\n",
    "\n",
    "# Subclass 1: Dog\n",
    "class Dog(Animal):\n",
    "\n",
    "    def sound(self):\n",
    "        return \"Bark\"  # Implementation of abstract method\n",
    "\n",
    "    def move(self):\n",
    "        return \"Run\"  # Implementation of abstract method\n",
    "\n",
    "# Subclass 2: Bird\n",
    "class Bird(Animal):\n",
    "\n",
    "    def sound(self):\n",
    "        return \"Chirp\"  # Implementation of abstract method\n",
    "\n",
    "    def move(self):\n",
    "        return \"Fly\"  # Implementation of abstract method\n",
    "\n",
    "# Creating objects of Dog and Bird\n",
    "dog = Dog()\n",
    "bird = Bird()\n",
    "\n",
    "# Calling methods from subclasses\n",
    "print(f\"Dog sound: {dog.sound()}\")  # Output: Dog sound: Bark\n",
    "print(f\"Dog movement: {dog.move()}\")  # Output: Dog movement: Run\n",
    "\n",
    "print(f\"Bird sound: {bird.sound()}\")  # Output: Bird sound: Chirp\n",
    "print(f\"Bird movement: {bird.move()}\")  # Output: Bird movement: Fly\n"
   ]
  },
  {
   "cell_type": "markdown",
   "metadata": {
    "id": "pVI6yjqaJ-ck"
   },
   "source": [
    "#                       Assignment 2"
   ]
  },
  {
   "cell_type": "markdown",
   "metadata": {
    "id": "uddYI985hfd7"
   },
   "source": [
    "\n",
    "\n",
    "### **Exception Handling**\n",
    "1. Write a program to handle an exception when dividing by zero in Java.\n",
    "2. Create a custom exception called `AgeNotValidException` and use it in a program to check if a person’s age is less than 18.\n",
    "3. Write a program to handle `FileNotFoundException` when reading from a file in Java.\n",
    "4. Write a program that handles multiple exceptions (e.g., `ArithmeticException` and `NullPointerException`) in a single `catch` block.\n",
    "5. Create a program that demonstrates the use of `finally` block for closing file resources after performing file operations.\n",
    "6. Implement exception chaining by throwing a custom exception from a method and catching it in another method.\n",
    "7. Write a program that catches `IOException` when trying to read a file that doesn’t exist.\n",
    "8. Write a program to handle `ClassNotFoundException` while trying to load a class dynamically.\n",
    "9. Demonstrate the difference between checked and unchecked exceptions using an example.\n",
    "10. Write a program that uses `throw` and `throws` to handle an exception in a method.\n",
    "11. Write a program that throws and handles `ArrayIndexOutOfBoundsException`.\n",
    "12. Implement a program where `finally` block executes even after an exception is thrown in the `try` block.\n",
    "13. Write a program that checks and handles `NullPointerException` in an object.\n",
    "14. Demonstrate the use of the `throws` keyword with a method that reads a file.\n",
    "15. Write a program to handle a `NumberFormatException` while converting a string to an integer.\n",
    "16. Implement a program that uses `ArithmeticException` when dividing a number by zero.\n",
    "17. Write a program that handles `IllegalArgumentException` when input to a function is invalid.\n",
    "18. Create a program where the exception is caught and logged using `printStackTrace()`.\n",
    "19. Write a program to handle multiple exceptions in a `try-catch` block using multi-catch syntax in Java.\n",
    "20. Implement a program that throws a custom exception when a user tries to input negative values in a program.\n",
    "\n",
    "### **File Handling**\n",
    "21. Write a program to read data from a file using `BufferedReader` in Java.\n",
    "22. Create a program to write data into a file using `FileWriter` in Java.\n",
    "23. Write a program that appends text to an existing file using `FileWriter` in Java.\n",
    "24. Write a program to read the contents of a file and print it to the console.\n",
    "25. Create a program that counts the number of lines in a file.\n",
    "26. Write a program to copy the contents of one file to another using `FileInputStream` and `FileOutputStream`.\n",
    "27. Create a program to list all the files in a directory.\n",
    "28. Write a program that checks if a file exists before attempting to read or write to it.\n",
    "29. Implement a program that reads binary data from a file using `FileInputStream`.\n",
    "30. Write a program that deletes a file from the system.\n",
    "31. Create a program that renames a file in Java.\n",
    "32. Write a program to check the size of a file.\n",
    "33. Write a program to move a file from one directory to another using Java.\n",
    "34. Create a program that reads a file and counts the frequency of each word.\n",
    "35. Implement a program that reads a file and converts its contents into a single string.\n",
    "36. Write a program that writes the contents of an array into a text file.\n",
    "37. Create a program that reads and displays the first 5 lines of a file.\n",
    "38. Write a program to handle `IOException` when trying to read a non-existent file.\n",
    "39. Write a program that reads a file line by line and prints the content to the console.\n",
    "40. Create a program that checks whether a file is a directory or a regular file.\n",
    "41. Write a program to append new content to a file without overwriting the existing content.\n",
    "42. Create a program that opens a file, writes some data, and closes the file using `FileOutputStream`.\n",
    "43. Write a program that uses `RandomAccessFile` to write at a specific location in a file.\n",
    "44. Implement a program that handles file encoding and decodes content while reading a file.\n",
    "45. Create a program that reads all bytes from a file and prints them.\n",
    "46. Write a program that uses `FileChannel` for file copying in Java.\n",
    "47. Write a program to check if a file is empty.\n",
    "48. Create a program that writes the current date and time into a file.\n",
    "49. Write a program that compares two files and checks if they are identical.\n",
    "50. Write a program that checks if a file is writable before writing to it.\n",
    "51. Create a program that encrypts a text file before saving.\n",
    "52. Write a program that reads a file into a list of strings.\n",
    "53. Create a program that checks the file extension and processes accordingly.\n",
    "54. Write a program that creates a temporary file and writes some data into it.\n",
    "55. Implement a program that reads data from a file and writes it into an array.\n",
    "56. Write a program that reads user input from a file and processes it.\n",
    "57. Write a program that retrieves the last modified time of a file.\n",
    "58. Create a program to perform file manipulation using `java.nio.file` package.\n",
    "59. Write a program to merge two files into a third file.\n",
    "60. Implement a program that uses `BufferedWriter` for writing to files efficiently.\n",
    "61. Write a program to create directories and subdirectories using Java.\n",
    "62. Write a program that copies a directory recursively.\n",
    "63. Create a program to check the path of a file or directory.\n",
    "64. Write a program that logs data to a file with a timestamp.\n",
    "65. Write a program to read all lines from a text file into a list.\n",
    "66. Write a program to create a backup copy of a file.\n",
    "67. Implement a program that parses a CSV file and prints its contents.\n",
    "68. Write a program that creates a file with a specific permission.\n",
    "69. Create a program that reads binary data from a file and converts it to a string.\n",
    "70. Write a program that searches for a string in a file.\n",
    "71. Write a program to replace a specific word in a text file.\n",
    "72. Create a program to count the number of occurrences of a specific word in a file.\n",
    "73. Write a program that processes a file in chunks and handles large files efficiently.\n",
    "74. Write a program to handle `FileNotFoundException` during file reading and writing operations.\n",
    "75. Write a program that reads data from multiple files and merges them into one.\n",
    "76. Create a program that handles file encryption and decryption.\n",
    "77. Write a program that checks if a file is hidden.\n",
    "78. Create a program to fetch file metadata like creation date and size.\n",
    "79. Write a program to handle file-related exceptions in Python.\n",
    "80. Write a program to list files in a directory using Python.\n",
    "81. Create a program to move a file using Python’s `shutil` module.\n",
    "82. Write a program to delete a file using Python.\n",
    "83. Write a Python program that reads from a file line by line.\n",
    "84. Write a Python program that appends content to an existing file.\n",
    "85. Write a Python program to copy contents from one file to another.\n",
    "86. Implement a Python program to search for a word in a file and replace it.\n",
    "87. Create a Python program to read and write binary data from/to files.\n",
    "88. Write a Python program that merges two text files.\n",
    "89. Write a Python program that reads a file and prints each line with its line number.\n",
    "90. Write a Python program to check whether a file exists or not before performing operations.\n",
    "91. Write a Python program that reads a file, processes its content, and stores it in a list.\n",
    "92. Create a Python program to handle file permissions when accessing files.\n",
    "93. Write a Python program to check if a directory exists before creating it.\n",
    "94. Implement a Python program that reads a CSV file and displays the data.\n",
    "95. Write a Python program to get the last modified time of a file.\n",
    "96. Write a Python program to find the size of a file.\n",
    "97. Create a Python program that renames a file.\n",
    "98. Write a Python program to handle text encoding issues while reading and writing files.\n",
    "99. Create a Python program that compares two files byte by byte.\n",
    "100. Write a Python program to handle exceptions during file reading and writing operations.\n",
    "\n",
    "### **Object-Oriented Programming Concepts**\n",
    "101. Write a program that demonstrates inheritance by creating a `Person` class and a `Student` subclass.\n",
    "102. Create a program that demonstrates method overriding in Java.\n",
    "103. Implement a program that uses polymorphism with method overloading.\n",
    "104. Write a program to demonstrate the use of interfaces in Java.\n",
    "105. Write a program to demonstrate encapsulation by hiding data using private access modifiers.\n",
    "106. Create a program that uses constructor overloading to initialize objects.\n",
    "107. Implement a class hierarchy with an abstract class and concrete subclasses.\n",
    "108. Write a program that uses the `this` keyword to refer to instance variables.\n",
    "109. Create a program that demonstrates the Singleton design pattern in Java.\n",
    "110. Implement a program that demonstrates the use of abstract methods in abstract classes.\n",
    "111. Write a program that uses the `super` keyword to call the superclass constructor.\n",
    "112. Create a program that defines and implements an interface for a `Vehicle` with methods like `start()` and `stop()`.\n",
    "113. Write a program to implement the Factory design pattern in Java.\n",
    "114. Implement a program that demonstrates the use of the `instanceof` operator in Java.\n",
    "115. Write a program that uses composition (using objects within objects).\n",
    "116. Create a program to show how to prevent method overriding using `final` keyword in Java.\n",
    "117. Write a program to demonstrate the use of `hashCode()` and `equals()` methods.\n",
    "118. Implement a program that uses a static method to count the number of instances created in a class.\n",
    "119. Create a class that demonstrates polymorphism by defining multiple methods with the same name but different parameters.\n",
    "120. Write a program that implements method overloading with different data types.\n",
    "121. Write a program that defines an abstract class `Shape` with subclasses like `Circle` and `Rectangle`.\n",
    "122. Create a program that demonstrates the use of class methods and static methods.\n",
    "123. Implement a program that demonstrates the use of the `final` keyword in classes, methods, and variables.\n",
    "124. Write a program that implements the Builder design pattern.\n",
    "125. Create a program to demonstrate the Adapter design pattern.\n",
    "126. Write a program that uses dynamic method dispatch to call overridden methods.\n",
    "127. Create a class that uses `super()` to call the parent class constructor in an inheritance chain.\n",
    "128. Write a program that implements the Observer design pattern.\n",
    "129. Implement a class that handles multiple exceptions using multiple catch blocks.\n",
    "130. Create a program that defines a `Person` class with `name`, `age`, and `address` properties, demonstrating encapsulation.\n",
    "131. Write a program that demonstrates the Decorator design pattern.\n",
    "132. Implement a program that creates a `BankAccount` class using the `public`, `private`, and `protected` access modifiers.\n",
    "133. Write a program to demonstrate the use of the `clone()` method to clone an object.\n",
    "134. Create a program that implements a `Product` class with multiple constructors for initialization.\n",
    "135. Write a program to demonstrate inheritance with constructors.\n",
    "136. Create a program that demonstrates abstract classes and interfaces together.\n",
    "137. Write a program to show the concept of method hiding using static methods.\n",
    "138. Implement a class that uses the `equals()` method to compare objects.\n",
    "139. Create a program that demonstrates inheritance with `super()` and method overriding.\n",
    "140. Write a program that implements the Strategy design pattern.\n",
    "141. Create a program that demonstrates object composition over inheritance.\n",
    "142. Write a program that creates a `Person` class with polymorphic behavior using an interface.\n",
    "143. Implement a program that shows how object serialization and deserialization work.\n",
    "144. Create a program that uses the Proxy design pattern.\n",
    "145. Write a program to implement a class with a private constructor, preventing instantiation from outside.\n",
    "146. Write a program that demonstrates how interfaces help achieve multiple inheritance in Java.\n",
    "147. Create a program that defines an `Animal` interface with methods like `eat()` and `sleep()`.\n",
    "148. Implement a program that creates a thread-safe singleton class.\n",
    "149. Create a class to demonstrate the use of `Object` class methods like `toString()` and `hashCode()`.\n",
    "150. Write a program that implements the Chain of Responsibility design pattern.\n",
    "151. Implement a program that shows the use of the `toString()` method in a class.\n",
    "152. Write a program that demonstrates the State design pattern.\n",
    "153. Create a program that shows the use of dynamic proxies in Java.\n",
    "154. Implement a program that creates a `Student` class and calculates average marks using OOP principles.\n",
    "155. Create a program to demonstrate object initialization using constructor chaining.\n",
    "156. Write a program that demonstrates the use of `default` methods in interfaces in Java 8.\n",
    "157. Implement a program that creates a `Shape` interface and calculates area using different classes for each shape.\n",
    "158. Create a program that uses dependency injection via constructor.\n",
    "159. Write a program that implements the Composite design pattern.\n",
    "160. Create a program that implements the Flyweight design pattern in Java.\n",
    "161. Write a program that demonstrates the Observer pattern for event handling.\n",
    "162. Implement a program that shows how to use static blocks in Java classes.\n",
    "163. Create a program that demonstrates lazy initialization in a Singleton class.\n",
    "164. Write a program that demonstrates the use of the `Optional` class in Java for null checks.\n",
    "165. Create a program that demonstrates method overriding with final methods in Java.\n",
    "166. Implement a program that uses the Command design pattern.\n",
    "167. Create a program that implements a simple banking system using inheritance and polymorphism.\n",
    "168. Write a program that defines an abstract class `Shape` with methods to calculate area and perimeter.\n",
    "169. Write a program to demonstrate method overloading and overriding with constructors.\n",
    "170. Create a program that demonstrates the use of recursion and object-oriented principles together.\n",
    "\n"
   ]
  },
  {
   "cell_type": "markdown",
   "metadata": {
    "id": "6p_Y1kNlhpEV"
   },
   "source": []
  },
  {
   "cell_type": "code",
   "execution_count": null,
   "metadata": {
    "id": "QxjoptbVJLtH"
   },
   "outputs": [],
   "source": []
  },
  {
   "cell_type": "code",
   "execution_count": null,
   "metadata": {
    "id": "vqRwV8l8JLqE"
   },
   "outputs": [],
   "source": []
  },
  {
   "cell_type": "code",
   "execution_count": null,
   "metadata": {
    "id": "mO8YdLBZJLnW"
   },
   "outputs": [],
   "source": []
  },
  {
   "cell_type": "code",
   "execution_count": null,
   "metadata": {
    "id": "uMALJ1jvJLkl"
   },
   "outputs": [],
   "source": []
  },
  {
   "cell_type": "code",
   "execution_count": null,
   "metadata": {
    "id": "wMcpXRxNJLhd"
   },
   "outputs": [],
   "source": []
  },
  {
   "cell_type": "code",
   "execution_count": null,
   "metadata": {
    "id": "zxwBcwEjJLfG"
   },
   "outputs": [],
   "source": []
  },
  {
   "cell_type": "code",
   "execution_count": null,
   "metadata": {
    "id": "qC_lKRtuJLcG"
   },
   "outputs": [],
   "source": []
  },
  {
   "cell_type": "code",
   "execution_count": null,
   "metadata": {
    "id": "XuUjNqjGJLY8"
   },
   "outputs": [],
   "source": []
  },
  {
   "cell_type": "code",
   "execution_count": null,
   "metadata": {
    "id": "IDrQbfIsJLVt"
   },
   "outputs": [],
   "source": []
  },
  {
   "cell_type": "code",
   "execution_count": null,
   "metadata": {
    "id": "DKui84muJLHV"
   },
   "outputs": [],
   "source": []
  },
  {
   "cell_type": "code",
   "execution_count": null,
   "metadata": {
    "id": "-E1sWxSxJJD3"
   },
   "outputs": [],
   "source": []
  }
 ],
 "metadata": {
  "colab": {
   "authorship_tag": "ABX9TyNrJ01phif311whK6GM1n6A",
   "provenance": []
  },
  "kernelspec": {
   "display_name": "Python 3",
   "name": "python3"
  },
  "language_info": {
   "codemirror_mode": {
    "name": "ipython",
    "version": 3
   },
   "file_extension": ".py",
   "mimetype": "text/x-python",
   "name": "python",
   "nbconvert_exporter": "python",
   "pygments_lexer": "ipython3",
   "version": "3.13.2"
  }
 },
 "nbformat": 4,
 "nbformat_minor": 0
}
